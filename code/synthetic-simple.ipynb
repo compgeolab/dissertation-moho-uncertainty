{
 "cells": [
  {
   "cell_type": "markdown",
   "metadata": {},
   "source": [
    "# Test on simple synthetic data\n",
    "\n",
    "This notebook generates some synthetic data based on a simple model and tests the inversion method on it. The test will be used to show that the method works and is efficient. This test uses cross-validation to determine the optimal regularization parameter. **We will assume that the reference level and density contrast are known**. The data, model, and results generated here are saved to files in the respective folders for later use."
   ]
  },
  {
   "cell_type": "markdown",
   "metadata": {},
   "source": [
    "## Package imports"
   ]
  },
  {
   "cell_type": "code",
   "execution_count": 1,
   "metadata": {
    "jupyter": {
     "outputs_hidden": false
    }
   },
   "outputs": [],
   "source": [
    "# Insert the plots into the notebook\n",
    "%matplotlib inline"
   ]
  },
  {
   "cell_type": "markdown",
   "metadata": {},
   "source": [
    "Load the standard scientific Python stack to numerical analysis and plotting."
   ]
  },
  {
   "cell_type": "code",
   "execution_count": 2,
   "metadata": {
    "jupyter": {
     "outputs_hidden": false
    }
   },
   "outputs": [],
   "source": [
    "from __future__ import division, print_function\n",
    "import pstats\n",
    "import datetime\n",
    "import zipfile\n",
    "import multiprocessing\n",
    "import pickle\n",
    "import numpy as np\n",
    "import scipy as sp\n",
    "import matplotlib.pyplot as plt\n",
    "from mpl_toolkits.basemap import Basemap\n",
    "import seaborn  # Makes the default style of the plots nicer"
   ]
  },
  {
   "cell_type": "markdown",
   "metadata": {},
   "source": [
    "The computations generate a lot of run-time warnings. They aren't anything to be concerned about so disable them to avoid clutter."
   ]
  },
  {
   "cell_type": "code",
   "execution_count": 3,
   "metadata": {
    "jupyter": {
     "outputs_hidden": true
    }
   },
   "outputs": [],
   "source": [
    "import warnings\n",
    "warnings.simplefilter('ignore')"
   ]
  },
  {
   "cell_type": "markdown",
   "metadata": {},
   "source": [
    "Load the required modules from [Fatiando a Terra](http://www.fatiando.org)."
   ]
  },
  {
   "cell_type": "code",
   "execution_count": 4,
   "metadata": {
    "jupyter": {
     "outputs_hidden": false
    }
   },
   "outputs": [],
   "source": [
    "from fatiando.inversion import Smoothness2D\n",
    "from fatiando.vis import mpl\n",
    "from fatiando.gravmag import tesseroid\n",
    "from fatiando import utils, gridder\n",
    "import fatiando"
   ]
  },
  {
   "cell_type": "code",
   "execution_count": 5,
   "metadata": {
    "jupyter": {
     "outputs_hidden": false
    }
   },
   "outputs": [
    {
     "name": "stdout",
     "output_type": "stream",
     "text": [
      "Version of Fatiando a Terra used: 0.5\n"
     ]
    }
   ],
   "source": [
    "print(\"Version of Fatiando a Terra used: {}\".format(fatiando.__version__))"
   ]
  },
  {
   "cell_type": "markdown",
   "metadata": {},
   "source": [
    "Load our custom classes and functions."
   ]
  },
  {
   "cell_type": "code",
   "execution_count": 6,
   "metadata": {
    "jupyter": {
     "outputs_hidden": false
    }
   },
   "outputs": [],
   "source": [
    "from mohoinv import TesseroidRelief, MohoGravityInvSpherical, make_mesh\n",
    "from mohoinv import split_data, score_test_set, score_all, fit_all"
   ]
  },
  {
   "cell_type": "markdown",
   "metadata": {},
   "source": [
    "Get the number of cores in this computer to run the some things in parallel."
   ]
  },
  {
   "cell_type": "code",
   "execution_count": 7,
   "metadata": {
    "jupyter": {
     "outputs_hidden": false
    }
   },
   "outputs": [
    {
     "name": "stdout",
     "output_type": "stream",
     "text": [
      "Number of cores: 8\n"
     ]
    }
   ],
   "source": [
    "ncpu = multiprocessing.cpu_count()\n",
    "print(\"Number of cores: {}\".format(ncpu))"
   ]
  },
  {
   "cell_type": "markdown",
   "metadata": {},
   "source": [
    "## Create a model and generate synthetic data"
   ]
  },
  {
   "cell_type": "markdown",
   "metadata": {},
   "source": [
    "Below we define a function that generates our tesseroid model of the Moho relief. The model assumes a homogeneous density contrast along the entire Moho. The relief of the Moho simulates the transition between continental and oceanic crust."
   ]
  },
  {
   "cell_type": "code",
   "execution_count": 8,
   "metadata": {
    "jupyter": {
     "outputs_hidden": true
    }
   },
   "outputs": [],
   "source": [
    "def generate_model():\n",
    "    # Make a regular grid inside an area.\n",
    "    # Grid points will be the center of the top of each tesseroid in the model\n",
    "    shape = (40, 50)\n",
    "    area = (10, 70, -50, 50)\n",
    "    lat, lon = gridder.regular(area, shape)\n",
    "    # Define our model Moho relief\n",
    "    # The general flow from continent to ocean\n",
    "    # is generated by the erf function\n",
    "    relief = (\n",
    "        -30e3 + 15e3*sp.special.erf((lon - 10)/20)\n",
    "        - 10e3*utils.gaussian2d(lat, lon, 10, 15, x0=25, y0=-30)\n",
    "        + 10e3*utils.gaussian2d(lat, lon, 15, 20, x0=53, y0=-25)\n",
    "        - 10e3*utils.gaussian2d(lat, lon, 3, 3, x0=50, y0=30)\n",
    "        - 10e3*utils.gaussian2d(lat, lon, 10, 10, x0=30, y0=25)**2\n",
    "        + 5e3*utils.gaussian2d(lat, lon, 40, 3, x0=40, y0=40, angle=15))\n",
    "    density_contrast = 400\n",
    "    density = density_contrast*np.ones_like(relief)\n",
    "    # Define the reference level (height in meters). \n",
    "    # This is the Moho depth of the Normal Earth\n",
    "    reference = -30e3\n",
    "    # The density contrast is negative if the relief is below the reference\n",
    "    density[relief < reference] *= -1\n",
    "    # Make a TesseroidRelief using the make_mesh utility function and \n",
    "    # assign the density contrast values to it.\n",
    "    model = make_mesh(area, shape, relief, reference)\n",
    "    model.addprop('density', density)\n",
    "    # Print some information\n",
    "    print(u\"Density contrast: {} kg/m³\".format(density_contrast))\n",
    "    print(u\"Reference level: {} m\".format(reference))\n",
    "    print(u\"Number of tesseroids: {} x {} = {}\".format(shape[0], shape[1], \n",
    "                                                       model.size))\n",
    "    return model"
   ]
  },
  {
   "cell_type": "code",
   "execution_count": 9,
   "metadata": {
    "jupyter": {
     "outputs_hidden": false
    }
   },
   "outputs": [
    {
     "name": "stdout",
     "output_type": "stream",
     "text": [
      "Density contrast: 400 kg/m³\n",
      "Reference level: -30000.0 m\n",
      "Number of tesseroids: 40 x 50 = 2000\n"
     ]
    }
   ],
   "source": [
    "model = generate_model()"
   ]
  },
  {
   "cell_type": "markdown",
   "metadata": {},
   "source": [
    "Lets make a plot of our Moho model."
   ]
  },
  {
   "cell_type": "code",
   "execution_count": 10,
   "metadata": {
    "jupyter": {
     "outputs_hidden": false
    }
   },
   "outputs": [],
   "source": [
    "bm = Basemap(projection='cyl', \n",
    "             llcrnrlon=model.area[2], urcrnrlon=model.area[3], \n",
    "             llcrnrlat=model.area[0], urcrnrlat=model.area[1],\n",
    "             resolution='c')"
   ]
  },
  {
   "cell_type": "code",
   "execution_count": 11,
   "metadata": {
    "jupyter": {
     "outputs_hidden": false
    }
   },
   "outputs": [
    {
     "data": {
      "text/plain": [
       "Text(0.5,1,'Moho depth model')"
      ]
     },
     "execution_count": 11,
     "metadata": {},
     "output_type": "execute_result"
    },
    {
     "data": {
      "image/png": "[encoded data removed]",
      "text/plain": [
       "<Figure size 504x252 with 2 Axes>"
      ]
     },
     "metadata": {
      "needs_background": "light"
     },
     "output_type": "display_data"
    }
   ],
   "source": [
    "x, y = bm(model.lon.reshape(model.shape), model.lat.reshape(model.shape))\n",
    "\n",
    "plt.figure(figsize=(7, 3.5))\n",
    "bm.pcolormesh(x, y, -0.001*model.relief.reshape(model.shape), cmap='BrBG')\n",
    "plt.colorbar(pad=0.01).set_label('km')\n",
    "bm.drawmeridians(np.arange(-40, 45, 20), labels=[0, 0, 0, 1], linewidth=0)\n",
    "bm.drawparallels(np.arange(20, 65, 20), labels=[1, 0, 0, 0], linewidth=0)\n",
    "plt.title(\"Moho depth model\")"
   ]
  },
  {
   "cell_type": "markdown",
   "metadata": {},
   "source": [
    "Generate the computation grid for our synthetic dataset. The grid will have half the spacing of the model. This way, we'll have more points than we'll need to run the inversion. The extra points will be separated into a *test dataset* for cross-validation (see section [Cross-validation](#Cross-validation) below)."
   ]
  },
  {
   "cell_type": "code",
   "execution_count": 12,
   "metadata": {
    "jupyter": {
     "outputs_hidden": false
    }
   },
   "outputs": [
    {
     "name": "stdout",
     "output_type": "stream",
     "text": [
      "Number of grid points: 79 x 99 = 7821\n",
      "Grid height: 50000.0 m\n"
     ]
    }
   ],
   "source": [
    "# clon and clat are the coordinates of the center of each model cell\n",
    "area = [model.clat.min(), model.clat.max(), model.clon.min(), model.clon.max()]\n",
    "# Increase the shape to have half the grid spacing\n",
    "full_shape = [s*2 - 1 for s in model.shape]\n",
    "grid_height = 50e3\n",
    "full_lat, full_lon, full_height = gridder.regular(area, full_shape, z=grid_height)\n",
    "print('Number of grid points: {} x {} = {}'.format(full_shape[0], full_shape[1], \n",
    "                                                   full_shape[0]*full_shape[1]))\n",
    "print('Grid height: {} m'.format(grid_height))"
   ]
  },
  {
   "cell_type": "markdown",
   "metadata": {},
   "source": [
    "Forward model the synthetic data on a regular grid at a constant height and contaminate it with pseudo-random Gaussian noise."
   ]
  },
  {
   "cell_type": "code",
   "execution_count": 13,
   "metadata": {
    "jupyter": {
     "outputs_hidden": false
    }
   },
   "outputs": [
    {
     "name": "stdout",
     "output_type": "stream",
     "text": [
      "Wall time: 25.7 s\n"
     ]
    }
   ],
   "source": [
    "%%time \n",
    "full_data_noisefree = tesseroid.gz(full_lon, full_lat, full_height, model, njobs=ncpu)"
   ]
  },
  {
   "cell_type": "code",
   "execution_count": 14,
   "metadata": {
    "jupyter": {
     "outputs_hidden": true
    }
   },
   "outputs": [],
   "source": [
    "full_data = utils.contaminate(full_data_noisefree, 5, seed=0)"
   ]
  },
  {
   "cell_type": "code",
   "execution_count": 15,
   "metadata": {
    "jupyter": {
     "outputs_hidden": false
    }
   },
   "outputs": [
    {
     "data": {
      "text/plain": [
       "Text(0.5,1,'Synthetic gravity anomaly')"
      ]
     },
     "execution_count": 15,
     "metadata": {},
     "output_type": "execute_result"
    },
    {
     "data": {
      "image/png": "[encoded data removed]",
      "text/plain": [
       "<Figure size 504x252 with 2 Axes>"
      ]
     },
     "metadata": {
      "needs_background": "light"
     },
     "output_type": "display_data"
    }
   ],
   "source": [
    "x, y = bm(full_lon, full_lat)\n",
    "\n",
    "plt.figure(figsize=(7, 3.5))\n",
    "ranges = np.abs([full_data.max(), full_data.min()]).max()\n",
    "bm.contourf(x, y, full_data, 50, cmap='RdBu_r', tri=True, vmin=-ranges, vmax=ranges)\n",
    "plt.colorbar(pad=0.01).set_label('mGal')\n",
    "bm.drawmeridians(np.arange(-40, 45, 20), labels=[0, 0, 0, 1], linewidth=0)\n",
    "bm.drawparallels(np.arange(20, 65, 20), labels=[1, 0, 0, 0], linewidth=0)\n",
    "plt.title('Synthetic gravity anomaly')"
   ]
  },
  {
   "cell_type": "markdown",
   "metadata": {},
   "source": [
    "## Save the model and synthetic data\n"
   ]
  },
  {
   "cell_type": "markdown",
   "metadata": {},
   "source": [
    "We'll  save the data to a text file [../data/synthetic-data-simple.txt](../data/synthetic-data-simple.txt) for later use and plotting."
   ]
  },
  {
   "cell_type": "code",
   "execution_count": 16,
   "metadata": {
    "jupyter": {
     "outputs_hidden": true
    }
   },
   "outputs": [],
   "source": [
    "now = datetime.datetime.utcnow().strftime('%d %B %Y %H:%M:%S UTC')\n",
    "header = \"\"\"# Generated by sinthetic-simple.ipynb on {date}\n",
    "# shape (nlat, nlon):\n",
    "# {nlat} {nlon}\n",
    "# lat lon height gravity_anomaly_noisefree gravity_anomaly_noisy\n",
    "\"\"\".format(date=now, nlat=full_shape[0], nlon=full_shape[1])\n",
    "with open('../data/synthetic-data-simple.txt', 'w') as f:\n",
    "    f.write(header)\n",
    "    np.savetxt(f, np.c_[full_lat, full_lon, full_height, full_data_noisefree, full_data],\n",
    "               fmt='%.5f')"
   ]
  },
  {
   "cell_type": "markdown",
   "metadata": {},
   "source": [
    "The model we'll save to a [Python pickle](https://docs.python.org/2/library/pickle.html) file. The `pickle` module allows us to serialize an object and load it back later. We'll use it to serialize the `model` object and save the file to the `model` folder."
   ]
  },
  {
   "cell_type": "code",
   "execution_count": 17,
   "metadata": {
    "jupyter": {
     "outputs_hidden": true
    }
   },
   "outputs": [],
   "source": [
    "now = datetime.datetime.utcnow().strftime('%d %B %Y %H:%M:%S UTC')\n",
    "model.metadata = \"Generated by sinthetic-simple.ipynb on {date}\".format(date=now)\n",
    "with open('../model/synthetic-simple.pickle', 'w') as f:\n",
    "    pickle.dump(model, f)"
   ]
  },
  {
   "cell_type": "markdown",
   "metadata": {},
   "source": [
    "## Cross-validation"
   ]
  },
  {
   "cell_type": "markdown",
   "metadata": {},
   "source": [
    "First, we must separate the dataset into two parts: one for the inversion, another for cross-validation. The inversion dataset will have double the grid spacing and (for this test) must fall on top of each grid cell. The remaining data will be used for cross-validation."
   ]
  },
  {
   "cell_type": "code",
   "execution_count": 18,
   "metadata": {
    "jupyter": {
     "outputs_hidden": false
    }
   },
   "outputs": [
    {
     "name": "stdout",
     "output_type": "stream",
     "text": [
      "Number of inversion grid points: 40 x 50 = 2000\n",
      "Number of test set points: 5821\n"
     ]
    }
   ],
   "source": [
    "inversion_set, test_set, shape = split_data([full_lat, full_lon, full_height, full_data], \n",
    "                                            full_shape, every_other=2)\n",
    "\n",
    "print(\"Number of inversion grid points: {} x {} = {}\".format(shape[0], shape[1], \n",
    "                                                             shape[0]*shape[1]))\n",
    "print(\"Number of test set points: {}\".format(test_set[0].size))"
   ]
  },
  {
   "cell_type": "markdown",
   "metadata": {},
   "source": [
    "Test if the inversion set falls on top of the model cells."
   ]
  },
  {
   "cell_type": "code",
   "execution_count": 19,
   "metadata": {
    "jupyter": {
     "outputs_hidden": false
    }
   },
   "outputs": [],
   "source": [
    "lat, lon, height, data = inversion_set\n",
    "assert np.allclose(model.clon.ravel(), lon, rtol=1e-10, atol=0)\n",
    "assert np.allclose(model.clat.ravel(), lat, rtol=1e-10, atol=0)"
   ]
  },
  {
   "cell_type": "markdown",
   "metadata": {},
   "source": [
    "No errors means that both checks (`assert`) passed."
   ]
  },
  {
   "cell_type": "markdown",
   "metadata": {},
   "source": [
    "The score (MSE) should be zero (perfect fit) if we pass in the error-free model data."
   ]
  },
  {
   "cell_type": "code",
   "execution_count": 20,
   "metadata": {
    "jupyter": {
     "outputs_hidden": false
    }
   },
   "outputs": [
    {
     "data": {
      "text/plain": [
       "0.0"
      ]
     },
     "execution_count": 20,
     "metadata": {},
     "output_type": "execute_result"
    }
   ],
   "source": [
    "score_test_set(model, full_lat, full_lon, full_height, full_data_noisefree, njobs=ncpu)"
   ]
  },
  {
   "cell_type": "markdown",
   "metadata": {},
   "source": [
    "## Inversion setup\n",
    "\n",
    "We need to make a mesh for the inversion. We'll use a mesh that is equal to the original model. This will make it easier to compare the inversion results with the true model."
   ]
  },
  {
   "cell_type": "code",
   "execution_count": 21,
   "metadata": {
    "jupyter": {
     "outputs_hidden": true
    }
   },
   "outputs": [],
   "source": [
    "mesh = model.copy(deep=True)"
   ]
  },
  {
   "cell_type": "markdown",
   "metadata": {},
   "source": [
    "We also need to define an initial estimate because this is a non-linear inversion. Next, we create the data-misfit and regularization objects that we'll use in the inversions below."
   ]
  },
  {
   "cell_type": "code",
   "execution_count": 22,
   "metadata": {
    "jupyter": {
     "outputs_hidden": true
    }
   },
   "outputs": [],
   "source": [
    "misfit = MohoGravityInvSpherical(lat, lon, height, data, mesh)\n",
    "regul = Smoothness2D(mesh.shape)\n",
    "initial = np.ones(mesh.size)*(-60e3)"
   ]
  },
  {
   "cell_type": "markdown",
   "metadata": {},
   "source": [
    "## Define plotting functions\n",
    "\n",
    "These functions plot the results of the inversion for us. We'll define them all here and use them below for each inversion that we run."
   ]
  },
  {
   "cell_type": "code",
   "execution_count": 23,
   "metadata": {
    "jupyter": {
     "outputs_hidden": true
    }
   },
   "outputs": [],
   "source": [
    "def plot_fit(result, bm):\n",
    "    solver = result['solution']\n",
    "    predicted = solver[0].predicted()\n",
    "    \n",
    "    ranges = np.abs([data.max(), data.min()]).max()\n",
    "    \n",
    "    plt.figure(figsize=(7, 3.5))\n",
    "    plt.title('Observed and predicted data ({})'.format(solver.stats_['method']))    \n",
    "    levels = mpl.contourf(lon, lat, data, shape, 25, cmap='RdBu_r', basemap=bm, \n",
    "                          vmin=-ranges, vmax=ranges)\n",
    "    plt.colorbar(pad=0.01).set_label('mGal')\n",
    "    mpl.contour(lon, lat, predicted, shape, levels, basemap=bm, color='#333333')\n",
    "    bm.drawmeridians(np.arange(-40, 45, 20), labels=[0, 0, 0, 1], linewidth=0)\n",
    "    bm.drawparallels(np.arange(20, 65, 20), labels=[1, 0, 0, 0], linewidth=0)\n",
    "    \n",
    "def plot_residuals(result):\n",
    "    solver = result['solution']\n",
    "    residuals = solver[0].residuals()\n",
    "    \n",
    "    plt.figure(figsize=(5, 4))\n",
    "    plt.text(0.58, 0.8, \n",
    "             \"mean = {:.2f}\\n    std = {:.2f}\".format(residuals.mean(), residuals.std()), \n",
    "             transform=plt.gca().transAxes)\n",
    "    plt.hist(residuals, bins=15, normed=True, histtype='stepfilled')\n",
    "    plt.xlabel('Residuals (mGal)')\n",
    "    plt.ylabel('Normalized frequency')\n",
    "    plt.tight_layout(pad=0)\n",
    "\n",
    "def plot_estimate(result, bm):\n",
    "    solver = result['solution']\n",
    "    moho = solver.estimate_    \n",
    "    x, y = bm(moho.lons, moho.lats)\n",
    "    \n",
    "    plt.figure(figsize=(7, 3.5))\n",
    "    plt.title(\"Estimated Moho depth ({})\".format(solver.stats_['method']))\n",
    "    bm.pcolormesh(x, y, -0.001*moho.relief.reshape(moho.shape), cmap='BrBG')\n",
    "    plt.colorbar(pad=0.01).set_label('km')\n",
    "    bm.drawmeridians(np.arange(-40, 45, 20), labels=[0, 0, 0, 1], linewidth=0)\n",
    "    bm.drawparallels(np.arange(20, 65, 20), labels=[1, 0, 0, 0], linewidth=0)\n",
    "    \n",
    "def plot_diff(result, model, bm):\n",
    "    solver = result['solution']    \n",
    "    moho = solver.estimate_    \n",
    "    x, y = bm(moho.lons, moho.lats)\n",
    "    \n",
    "    diff = -0.001*(model.relief - moho.relief).reshape(moho.shape)\n",
    "    ranges = np.abs([diff.max(), diff.min()]).max()\n",
    "    \n",
    "    plt.figure(figsize=(7, 3.5))\n",
    "    plt.title('Difference between true and estimated ({})'.format(solver.stats_['method']))  \n",
    "    bm.pcolormesh(x, y, diff, cmap='RdYlBu_r', vmin=-ranges, vmax=ranges)\n",
    "    plt.colorbar(pad=0.01).set_label('km')\n",
    "    bm.drawmeridians(np.arange(-40, 45, 20), labels=[0, 0, 0, 1], linewidth=0)\n",
    "    bm.drawparallels(np.arange(20, 65, 20), labels=[1, 0, 0, 0], linewidth=0)\n",
    "    \n",
    "def plot_cv(result, log=True):\n",
    "    regul_params = result['regul_params']\n",
    "    scores = result['scores']\n",
    "    best = result['best_index']\n",
    "    solver = result['solution']\n",
    "    plt.figure(figsize=(5, 3.5))\n",
    "    plt.title('Cross-validation for {}'.format(solver.stats_['method']))\n",
    "    plt.plot(regul_params, scores, marker='o')\n",
    "    plt.plot(regul_params[best], scores[best], 's', markersize=10, \n",
    "             color=seaborn.color_palette()[2], label='Minimum')\n",
    "    plt.legend(loc='upper left')\n",
    "    plt.xscale('log')\n",
    "    if log:\n",
    "        plt.yscale('log')\n",
    "    plt.xlabel('Regularization parameter')\n",
    "    plt.ylabel(u'Mean Square Error')\n",
    "    plt.tight_layout()\n",
    "    \n",
    "def plot_convergence(result):\n",
    "    solver = result['solution']\n",
    "    plt.figure(figsize=(5, 3.5))\n",
    "    plt.title('Convergence of {}'.format(solver.stats_['method']))\n",
    "    plt.plot(range(solver.stats_['iterations'] + 1), solver.stats_['objective'])\n",
    "    plt.xlabel('Iteration')\n",
    "    plt.yscale('log')\n",
    "    plt.ylabel('Goal function')\n",
    "    plt.tight_layout()"
   ]
  },
  {
   "cell_type": "markdown",
   "metadata": {},
   "source": [
    "## Run the inversion and cross-validation"
   ]
  },
  {
   "cell_type": "markdown",
   "metadata": {},
   "source": [
    "We'll keep the results in a Python dictionary (`dict`) along with all configuration and other metadata. We can then save this dict to a Pickle file and have inversion information saved with the results."
   ]
  },
  {
   "cell_type": "code",
   "execution_count": 24,
   "metadata": {
    "jupyter": {
     "outputs_hidden": true
    }
   },
   "outputs": [],
   "source": [
    "results = dict()  # For now, the results dict is empty"
   ]
  },
  {
   "cell_type": "markdown",
   "metadata": {},
   "source": [
    "We'll make a Python dictionary (`dict`) to store the solver configuration for this method. `tol` is the tolerance level that controls the stopping criterion. `maxit` is the maximum allowed number of iterations."
   ]
  },
  {
   "cell_type": "code",
   "execution_count": 25,
   "metadata": {
    "jupyter": {
     "outputs_hidden": false
    }
   },
   "outputs": [],
   "source": [
    "results['config'] = dict(method='newton', initial=initial, tol=0.1, maxit=15)"
   ]
  },
  {
   "cell_type": "markdown",
   "metadata": {},
   "source": [
    "Next, we define a list of the possible regularization parameters that will be considered during cross-validation. `logspace` generates a list of values evenly spaced in a logarithmic scale."
   ]
  },
  {
   "cell_type": "code",
   "execution_count": 26,
   "metadata": {
    "jupyter": {
     "outputs_hidden": false
    }
   },
   "outputs": [
    {
     "data": {
      "text/plain": [
       "array([  1.00000000e-06,   2.15443469e-06,   4.64158883e-06,\n",
       "         1.00000000e-05,   2.15443469e-05,   4.64158883e-05,\n",
       "         1.00000000e-04,   2.15443469e-04,   4.64158883e-04,\n",
       "         1.00000000e-03,   2.15443469e-03,   4.64158883e-03,\n",
       "         1.00000000e-02,   2.15443469e-02,   4.64158883e-02,\n",
       "         1.00000000e-01])"
      ]
     },
     "execution_count": 26,
     "metadata": {},
     "output_type": "execute_result"
    }
   ],
   "source": [
    "results['regul_params'] = np.logspace(-6, -1, 16)\n",
    "results['regul_params']"
   ]
  },
  {
   "cell_type": "markdown",
   "metadata": {},
   "source": [
    "Run the inversion for each value in `regul_params` (in parallel using all available cores). This takes some time to run. "
   ]
  },
  {
   "cell_type": "code",
   "execution_count": 27,
   "metadata": {
    "jupyter": {
     "outputs_hidden": false
    }
   },
   "outputs": [
    {
     "name": "stdout",
     "output_type": "stream",
     "text": [
      "Wall time: 2min 22s\n"
     ]
    }
   ],
   "source": [
    "solvers = [(misfit + mu*regul).config(**results['config']) \n",
    "           for mu in results['regul_params']]\n",
    "\n",
    "%time solutions = fit_all(solvers, njobs=ncpu)"
   ]
  },
  {
   "cell_type": "markdown",
   "metadata": {},
   "source": [
    "Store only the estimated Moho models. We can compute the predicted data from them later if we want."
   ]
  },
  {
   "cell_type": "code",
   "execution_count": 28,
   "metadata": {
    "jupyter": {
     "outputs_hidden": true
    }
   },
   "outputs": [],
   "source": [
    "results['solutions'] = [s.estimate_ for s in solutions]"
   ]
  },
  {
   "cell_type": "markdown",
   "metadata": {},
   "source": [
    "Score the results against the test dataset."
   ]
  },
  {
   "cell_type": "code",
   "execution_count": 29,
   "metadata": {
    "jupyter": {
     "outputs_hidden": false
    }
   },
   "outputs": [
    {
     "name": "stdout",
     "output_type": "stream",
     "text": [
      "Wall time: 57.6 s\n"
     ]
    }
   ],
   "source": [
    "%%time \n",
    "results['scores'] = score_all(results['solutions'], test_set, \n",
    "                              points=False, njobs=ncpu)"
   ]
  },
  {
   "cell_type": "markdown",
   "metadata": {},
   "source": [
    "The best solution is the one with the smallest cross-validation score."
   ]
  },
  {
   "cell_type": "code",
   "execution_count": 30,
   "metadata": {
    "jupyter": {
     "outputs_hidden": true
    }
   },
   "outputs": [],
   "source": [
    "best = np.argmin(results['scores'])\n",
    "results['best_index'] = best\n",
    "results['solution'] = solutions[best]"
   ]
  },
  {
   "cell_type": "markdown",
   "metadata": {},
   "source": [
    "### Save the results to a pickle file\n",
    "\n",
    "Also save some metadata about it. Since the resulting pickle file will be large, we'll store it in a `zip` archive."
   ]
  },
  {
   "cell_type": "code",
   "execution_count": 31,
   "metadata": {
    "jupyter": {
     "outputs_hidden": false
    }
   },
   "outputs": [],
   "source": [
    "def pickle_results(results, fname):\n",
    "    # Dump the results dict to a pickle file\n",
    "    pickle_file = '{}.pickle'.format(fname)\n",
    "    now = datetime.datetime.utcnow().strftime('%d %B %Y %H:%M:%S UTC')\n",
    "    results['metadata'] = \"Generated by sinthetic-simple.ipynb on {date}\".format(date=now)\n",
    "    with open('results/{}'.format(pickle_file), 'w') as f:\n",
    "        pickle.dump(results, f)\n",
    "    # Zip the pickle file\n",
    "    zipargs = dict(mode='w', compression=zipfile.ZIP_DEFLATED)\n",
    "    with zipfile.ZipFile('results/{}.zip'.format(fname), **zipargs) as f:\n",
    "        f.write('results/{}'.format(pickle_file), arcname=pickle_file)"
   ]
  },
  {
   "cell_type": "code",
   "execution_count": 32,
   "metadata": {
    "jupyter": {
     "outputs_hidden": true
    }
   },
   "outputs": [],
   "source": [
    "pickle_results(results, 'synthetic-simple')"
   ]
  },
  {
   "cell_type": "markdown",
   "metadata": {},
   "source": [
    "### Plot the results"
   ]
  },
  {
   "cell_type": "markdown",
   "metadata": {},
   "source": [
    "Plot the cross-validation data. The graph will show the MSE per regularization parameter. The chosen solution is the one that minimizes the MSE."
   ]
  },
  {
   "cell_type": "code",
   "execution_count": 33,
   "metadata": {
    "jupyter": {
     "outputs_hidden": false
    }
   },
   "outputs": [
    {
     "data": {
      "image/png": "[encoded data removed]",
      "text/plain": [
       "<Figure size 360x252 with 1 Axes>"
      ]
     },
     "metadata": {
      "needs_background": "light"
     },
     "output_type": "display_data"
    }
   ],
   "source": [
    "plot_cv(results)"
   ]
  },
  {
   "cell_type": "markdown",
   "metadata": {},
   "source": [
    "Plot the convergence of the best solution (goal function value per iteration) to see if the solution converges. Note that the y-axis is in a logarithmic scale."
   ]
  },
  {
   "cell_type": "code",
   "execution_count": 34,
   "metadata": {
    "jupyter": {
     "outputs_hidden": false
    }
   },
   "outputs": [
    {
     "data": {
      "image/png": "[encoded data removed]",
      "text/plain": [
       "<Figure size 360x252 with 1 Axes>"
      ]
     },
     "metadata": {
      "needs_background": "light"
     },
     "output_type": "display_data"
    }
   ],
   "source": [
    "plot_convergence(results)"
   ]
  },
  {
   "cell_type": "markdown",
   "metadata": {},
   "source": [
    "Now we can plot the results for the best solution found. The maps below show the data fit (observed vs predicted), a histogram of the inversion residuals, the estimated Moho depth, and the difference between the estimated and true Moho depths."
   ]
  },
  {
   "cell_type": "code",
   "execution_count": 35,
   "metadata": {
    "jupyter": {
     "outputs_hidden": false
    }
   },
   "outputs": [
    {
     "data": {
      "image/png": "[encoded data removed]",
      "text/plain": [
       "<Figure size 504x252 with 2 Axes>"
      ]
     },
     "metadata": {
      "needs_background": "light"
     },
     "output_type": "display_data"
    }
   ],
   "source": [
    "plot_fit(results, bm)"
   ]
  },
  {
   "cell_type": "code",
   "execution_count": 36,
   "metadata": {
    "jupyter": {
     "outputs_hidden": false
    }
   },
   "outputs": [
    {
     "data": {
      "image/png": "[encoded data removed]",
      "text/plain": [
       "<Figure size 360x288 with 1 Axes>"
      ]
     },
     "metadata": {
      "needs_background": "light"
     },
     "output_type": "display_data"
    }
   ],
   "source": [
    "plot_residuals(results)"
   ]
  },
  {
   "cell_type": "code",
   "execution_count": 37,
   "metadata": {
    "jupyter": {
     "outputs_hidden": false
    }
   },
   "outputs": [
    {
     "data": {
      "image/png": "[encoded data removed]",
      "text/plain": [
       "<Figure size 504x252 with 2 Axes>"
      ]
     },
     "metadata": {
      "needs_background": "light"
     },
     "output_type": "display_data"
    }
   ],
   "source": [
    "plot_estimate(results, bm)"
   ]
  },
  {
   "cell_type": "code",
   "execution_count": 38,
   "metadata": {
    "jupyter": {
     "outputs_hidden": false
    }
   },
   "outputs": [
    {
     "data": {
      "image/png": "[encoded data removed]",
      "text/plain": [
       "<Figure size 504x252 with 2 Axes>"
      ]
     },
     "metadata": {
      "needs_background": "light"
     },
     "output_type": "display_data"
    }
   ],
   "source": [
    "plot_diff(results, model, bm)"
   ]
  },
  {
   "cell_type": "markdown",
   "metadata": {},
   "source": [
    "## Profiling\n",
    "\n",
    "We'll run the Python profiler (using the `%prun` IPython magic command) to measure how much time is speant on each function call during the inversion. This will allow us to see where time is being spent. I'll test the inversion by Gauss-Newton to see if solving the linear system has any impact on performance."
   ]
  },
  {
   "cell_type": "markdown",
   "metadata": {},
   "source": [
    "For consistency, we'll run the inversion using the optimal regularization parameter determined above by cross-validation."
   ]
  },
  {
   "cell_type": "code",
   "execution_count": 39,
   "metadata": {
    "jupyter": {
     "outputs_hidden": true
    }
   },
   "outputs": [],
   "source": [
    "mu = results['regul_params'][results['best_index']]"
   ]
  },
  {
   "cell_type": "markdown",
   "metadata": {},
   "source": [
    "The following cell runs the profiling on all the code inside it and saves the output to a pretty-printed file and to a raw data format."
   ]
  },
  {
   "cell_type": "code",
   "execution_count": 40,
   "metadata": {
    "jupyter": {
     "outputs_hidden": false
    }
   },
   "outputs": [
    {
     "name": "stdout",
     "output_type": "stream",
     "text": [
      " \n",
      "*** Profile stats marshalled to file u'results/profiling-raw.dat'. \n",
      "\n",
      "*** Profile printout saved to text file u'results/profiling.txt'. \n"
     ]
    }
   ],
   "source": [
    "%%prun -q -T results/profiling.txt -D results/profiling-raw.dat\n",
    "misfit = MohoGravityInvSpherical(lat, lon, height, data, mesh)\n",
    "regul = Smoothness2D(mesh.shape)\n",
    "(misfit + mu*regul).config(**results['config']).fit()"
   ]
  },
  {
   "cell_type": "markdown",
   "metadata": {},
   "source": [
    "There are the first N lines of the pretty-printed profiling output. The list of functions is sorted by the time speant inside each specific function (`tottime`)."
   ]
  },
  {
   "cell_type": "code",
   "execution_count": 41,
   "metadata": {
    "jupyter": {
     "outputs_hidden": false
    }
   },
   "outputs": [
    {
     "name": "stderr",
     "output_type": "stream",
     "text": [
      "'head' is not recognized as an internal or external command,\n",
      "operable program or batch file.\n"
     ]
    }
   ],
   "source": [
    "!head -n 20 results/profiling.txt"
   ]
  },
  {
   "cell_type": "markdown",
   "metadata": {},
   "source": [
    "We'll use the `pstats` module to investigate the raw profiling data for what we want. The three major time sinks in the inversion process that we'll investigate are: **solving sparse linear systems, matrix dot products, forward modeling**. We'll be looking at the cummulative time (`cumtime`) which is the total amount of time spent inside a given function.\n",
    "\n",
    "After filtering the results to these three specific functions, we'll print the them to separate files for later use."
   ]
  },
  {
   "cell_type": "code",
   "execution_count": 42,
   "metadata": {
    "jupyter": {
     "outputs_hidden": true
    }
   },
   "outputs": [],
   "source": [
    "def filter_profiling(keys, fname):\n",
    "    output = 'results/{}'.format(fname)\n",
    "    with open(output, 'w') as f:\n",
    "        # Load the profiling data and set the output file\n",
    "        st = pstats.Stats('results/profiling-raw.dat', stream=f)\n",
    "        # Filter the data to isolate the time in the desired \n",
    "        # function and print to the file\n",
    "        st.sort_stats('cumtime').print_stats(*keys)\n",
    "    # Print the file contents\n",
    "    !cat $output"
   ]
  },
  {
   "cell_type": "markdown",
   "metadata": {},
   "source": [
    "First, investigate how time is spent solving sparse linear systems using conjugate gradient (the `cgs` function in `scipy.sparse.linalg.isolve.iterative`)."
   ]
  },
  {
   "cell_type": "code",
   "execution_count": 43,
   "metadata": {
    "jupyter": {
     "outputs_hidden": false
    }
   },
   "outputs": [
    {
     "name": "stderr",
     "output_type": "stream",
     "text": [
      "'cat' is not recognized as an internal or external command,\n",
      "operable program or batch file.\n"
     ]
    }
   ],
   "source": [
    "filter_profiling(['scipy', 'cgs'], 'profiling-linsys.txt')"
   ]
  },
  {
   "cell_type": "markdown",
   "metadata": {},
   "source": [
    "Now for the dot products of sparse matrices in `scipy.sparse`."
   ]
  },
  {
   "cell_type": "code",
   "execution_count": 44,
   "metadata": {
    "jupyter": {
     "outputs_hidden": false
    }
   },
   "outputs": [
    {
     "name": "stderr",
     "output_type": "stream",
     "text": [
      "'cat' is not recognized as an internal or external command,\n",
      "operable program or batch file.\n"
     ]
    }
   ],
   "source": [
    "filter_profiling(['scipy', 'sparse', 'dot'], 'profiling-dot.txt')"
   ]
  },
  {
   "cell_type": "markdown",
   "metadata": {},
   "source": [
    "Finally, investigate the forward modeling using function `gz` of `fatiando.gravmag.tesseroid`."
   ]
  },
  {
   "cell_type": "code",
   "execution_count": 45,
   "metadata": {
    "jupyter": {
     "outputs_hidden": false
    }
   },
   "outputs": [
    {
     "name": "stderr",
     "output_type": "stream",
     "text": [
      "'cat' is not recognized as an internal or external command,\n",
      "operable program or batch file.\n"
     ]
    }
   ],
   "source": [
    "filter_profiling(['fatiando', 'tesseroid', 'gz'], 'profiling-forward.txt')"
   ]
  },
  {
   "cell_type": "markdown",
   "metadata": {},
   "source": [
    "Extract the times from each file and store them in a dictionary."
   ]
  },
  {
   "cell_type": "code",
   "execution_count": 46,
   "metadata": {
    "jupyter": {
     "outputs_hidden": true
    }
   },
   "outputs": [],
   "source": [
    "keys = 'forward dot linsys'.split()\n",
    "times = {}\n",
    "total_times = []\n",
    "for k in keys:\n",
    "    with open('results/profiling-{}.txt'.format(k)) as f:\n",
    "        lines = f.readlines()\n",
    "    times[k] = float(lines[-3].strip().split()[3])\n",
    "    total_times.append(float(lines[2].strip().split()[-2]))\n",
    "# Check if all total execution times read are equal\n",
    "assert np.all(np.equal(total_times[0], total_times))\n",
    "total_time = total_times[0]"
   ]
  },
  {
   "cell_type": "code",
   "execution_count": 47,
   "metadata": {
    "jupyter": {
     "outputs_hidden": false
    }
   },
   "outputs": [
    {
     "data": {
      "text/plain": [
       "(28.556, {'dot': 0.005, 'forward': 28.491, 'linsys': 0.024})"
      ]
     },
     "execution_count": 47,
     "metadata": {},
     "output_type": "execute_result"
    }
   ],
   "source": [
    "total_time, times"
   ]
  },
  {
   "cell_type": "markdown",
   "metadata": {},
   "source": [
    "Calculate the percentage of the total time for each function."
   ]
  },
  {
   "cell_type": "code",
   "execution_count": 48,
   "metadata": {
    "jupyter": {
     "outputs_hidden": false
    }
   },
   "outputs": [],
   "source": [
    "percentage = {k:100*times[k]/total_time for k in keys}"
   ]
  },
  {
   "cell_type": "code",
   "execution_count": 49,
   "metadata": {
    "jupyter": {
     "outputs_hidden": false
    }
   },
   "outputs": [
    {
     "name": "stdout",
     "output_type": "stream",
     "text": [
      "forward = 99.77238 %\n",
      "dot = 0.01751 %\n",
      "linsys = 0.08405 %\n"
     ]
    }
   ],
   "source": [
    "for k in keys:\n",
    "    print('{} = {:.5f} %'.format(k, percentage[k]))"
   ]
  },
  {
   "cell_type": "markdown",
   "metadata": {},
   "source": [
    "Get the current processor name from the operating system."
   ]
  },
  {
   "cell_type": "code",
   "execution_count": 50,
   "metadata": {
    "jupyter": {
     "outputs_hidden": false
    }
   },
   "outputs": [
    {
     "ename": "IndexError",
     "evalue": "list index out of range",
     "output_type": "error",
     "traceback": [
      "\u001b[1;31m\u001b[0m",
      "\u001b[1;31mIndexError\u001b[0mTraceback (most recent call last)",
      "\u001b[1;32m<ipython-input-50-d134cfb99e53>\u001b[0m in \u001b[0;36m<module>\u001b[1;34m()\u001b[0m\n\u001b[0;32m      1\u001b[0m \u001b[0mtmp\u001b[0m \u001b[1;33m=\u001b[0m \u001b[0mget_ipython\u001b[0m\u001b[1;33m(\u001b[0m\u001b[1;33m)\u001b[0m\u001b[1;33m.\u001b[0m\u001b[0mgetoutput\u001b[0m\u001b[1;33m(\u001b[0m\u001b[1;34mu'cat /proc/cpuinfo | grep \"model name\"'\u001b[0m\u001b[1;33m)\u001b[0m\u001b[1;33m\u001b[0m\u001b[0m\n\u001b[1;32m----> 2\u001b[1;33m \u001b[0mprocessor\u001b[0m \u001b[1;33m=\u001b[0m \u001b[0mtmp\u001b[0m\u001b[1;33m[\u001b[0m\u001b[1;36m0\u001b[0m\u001b[1;33m]\u001b[0m\u001b[1;33m.\u001b[0m\u001b[0msplit\u001b[0m\u001b[1;33m(\u001b[0m\u001b[1;34m':'\u001b[0m\u001b[1;33m)\u001b[0m\u001b[1;33m[\u001b[0m\u001b[1;36m1\u001b[0m\u001b[1;33m]\u001b[0m\u001b[1;33m.\u001b[0m\u001b[0mstrip\u001b[0m\u001b[1;33m(\u001b[0m\u001b[1;33m)\u001b[0m\u001b[1;33m\u001b[0m\u001b[0m\n\u001b[0m\u001b[0;32m      3\u001b[0m \u001b[1;32mprint\u001b[0m\u001b[1;33m(\u001b[0m\u001b[0mprocessor\u001b[0m\u001b[1;33m)\u001b[0m\u001b[1;33m\u001b[0m\u001b[0m\n",
      "\u001b[1;31mIndexError\u001b[0m: list index out of range"
     ]
    }
   ],
   "source": [
    "tmp = !cat /proc/cpuinfo | grep \"model name\"\n",
    "processor = tmp[0].split(':')[1].strip()\n",
    "print(processor)"
   ]
  },
  {
   "cell_type": "markdown",
   "metadata": {},
   "source": [
    "Make the Latex table for the article."
   ]
  },
  {
   "cell_type": "code",
   "execution_count": null,
   "metadata": {
    "jupyter": {
     "outputs_hidden": false
    }
   },
   "outputs": [],
   "source": [
    "caption = \"\"\"\n",
    "        Time spent on each function during a single inversion of\n",
    "        simple synthetic data.\n",
    "        The inversion was performed on a laptop computer with a\n",
    "        {processor} processor.\n",
    "        The total time for the inversion was {total_time:.3f} seconds.        \n",
    "\"\"\".format(processor=processor, total_time=total_time)\n",
    "print(caption)"
   ]
  },
  {
   "cell_type": "code",
   "execution_count": null,
   "metadata": {
    "jupyter": {
     "outputs_hidden": true
    }
   },
   "outputs": [],
   "source": [
    "line = \"{func} & {time:.3f} & {percent:.3f}\"\n",
    "cg = line.format(func=\"Sparse conjugate gradient\", \n",
    "                 time=times['linsys'], percent=percentage['linsys']) \n",
    "dot = line.format(func=\"Sparse dot product\", \n",
    "                  time=times['dot'], percent=percentage['dot'])\n",
    "fwd = line.format(func=\"Tesseroid forward modeling\", \n",
    "                  time=times['forward'], percent=percentage['forward']) "
   ]
  },
  {
   "cell_type": "code",
   "execution_count": null,
   "metadata": {
    "jupyter": {
     "outputs_hidden": false
    }
   },
   "outputs": [],
   "source": [
    "table = r\"\"\"\n",
    "\\begin{table}\n",
    "    \\centering\n",
    "    \\caption{%s    }\n",
    "    \\label{profiling}\n",
    "    \\begin{tabular}{lcc}\n",
    "        Function description & Time (s) & Percentage of total time (\\%)\\\\\n",
    "        \\hline \n",
    "        %s\\\\\n",
    "        %s\\\\\n",
    "        %s\\\\\n",
    "        \\hline\n",
    "    \\end{tabular}\n",
    "\\end{table}\n",
    "\"\"\" % (caption, cg, dot, fwd)\n",
    "print(table)"
   ]
  },
  {
   "cell_type": "markdown",
   "metadata": {},
   "source": [
    "Print this table to a `.tex` file for inclusion in the manuscript."
   ]
  },
  {
   "cell_type": "code",
   "execution_count": null,
   "metadata": {
    "jupyter": {
     "outputs_hidden": true
    }
   },
   "outputs": [],
   "source": [
    "with open('../manuscript/profiling.tex', 'w') as f:\n",
    "    f.write(table)"
   ]
  },
  {
   "cell_type": "markdown",
   "metadata": {},
   "source": [
    "[]()"
   ]
  }
 ],
 "metadata": {
  "kernelspec": {
   "display_name": "Python 2",
   "language": "python",
   "name": "python2"
  },
  "language_info": {
   "codemirror_mode": {
    "name": "ipython",
    "version": 2
   },
   "file_extension": ".py",
   "mimetype": "text/x-python",
   "name": "python",
   "nbconvert_exporter": "python",
   "pygments_lexer": "ipython2",
   "version": "2.7.15"
  }
 },
 "nbformat": 4,
 "nbformat_minor": 4
}
