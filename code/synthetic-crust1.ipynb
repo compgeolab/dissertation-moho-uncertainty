{
 "cells": [
  {
   "cell_type": "markdown",
   "metadata": {},
   "source": [
    "# Test on synthetic data generated from the CRUST1.0 model\n",
    "\n",
    "This notebook runs a more complex test using synthetic data generated from the CRUST1.0 model. The area will be restricted to South America and the model will use a homogeneous density contrast along the anomalous Moho. Thus, we'll only the Moho depth information from CRUST1.0. \n",
    "\n",
    "The test is meant to simulate what we expect from the real data application ([south-america-moho.ipynb](south-america-moho.ipynb)). We will assume that the reference Moho depth and density contrast are unknown. Both of these hyperparameters, along with the regularization parameter, will be determined through cross-validation. For the reference depth and density contrast, we'll use seismic point data to score solutions. These data will also be simulated using the CRUST1.0 model."
   ]
  },
  {
   "cell_type": "markdown",
   "metadata": {},
   "source": [
    "## Package imports\n",
    "\n",
    "Load the necessary libraries to run the inversion and make graphs."
   ]
  },
  {
   "cell_type": "code",
   "execution_count": 1,
   "metadata": {},
   "outputs": [],
   "source": [
    "# Insert the plots into the notebook\n",
    "%matplotlib inline"
   ]
  },
  {
   "cell_type": "markdown",
   "metadata": {},
   "source": [
    "Load the standard scientific Python stack to numerical analysis and plotting."
   ]
  },
  {
   "cell_type": "code",
   "execution_count": 2,
   "metadata": {
    "jupyter": {
     "outputs_hidden": false
    }
   },
   "outputs": [],
   "source": [
    "from __future__ import division, print_function\n",
    "import multiprocessing\n",
    "import zipfile\n",
    "import datetime\n",
    "import pickle\n",
    "import itertools\n",
    "import numpy as np\n",
    "import matplotlib.pyplot as plt\n",
    "from mpl_toolkits.basemap import Basemap\n",
    "import seaborn  # Makes the default style of the plots nicer"
   ]
  },
  {
   "cell_type": "markdown",
   "metadata": {},
   "source": [
    "The computations generate a lot of run-time warnings. They aren't anything to be concerned about so disable them to avoid clutter."
   ]
  },
  {
   "cell_type": "code",
   "execution_count": 3,
   "metadata": {
    "jupyter": {
     "outputs_hidden": true
    }
   },
   "outputs": [],
   "source": [
    "import warnings\n",
    "warnings.simplefilter('ignore')"
   ]
  },
  {
   "cell_type": "markdown",
   "metadata": {},
   "source": [
    "Load the required modules from [Fatiando a Terra](http://www.fatiando.org)."
   ]
  },
  {
   "cell_type": "code",
   "execution_count": 4,
   "metadata": {
    "jupyter": {
     "outputs_hidden": false
    }
   },
   "outputs": [],
   "source": [
    "from fatiando.vis import mpl\n",
    "from fatiando.gravmag import tesseroid\n",
    "from fatiando import gridder, utils\n",
    "from fatiando.inversion import Smoothness2D\n",
    "import fatiando\n",
    "from fatiando.mesher import Tesseroid"
   ]
  },
  {
   "cell_type": "code",
   "execution_count": 5,
   "metadata": {
    "jupyter": {
     "outputs_hidden": false
    }
   },
   "outputs": [
    {
     "name": "stdout",
     "output_type": "stream",
     "text": [
      "Version of Fatiando a Terra used: 0.5\n"
     ]
    }
   ],
   "source": [
    "print(\"Version of Fatiando a Terra used: {}\".format(fatiando.__version__))"
   ]
  },
  {
   "cell_type": "code",
   "execution_count": 76,
   "metadata": {},
   "outputs": [],
   "source": [
    "Tesseroid?"
   ]
  },
  {
   "cell_type": "markdown",
   "metadata": {},
   "source": [
    "Load our custom classes and functions."
   ]
  },
  {
   "cell_type": "code",
   "execution_count": 7,
   "metadata": {
    "jupyter": {
     "outputs_hidden": false
    }
   },
   "outputs": [],
   "source": [
    "from datasets import fetch_assumpcao_moho_points, fetch_crust1\n",
    "from mohoinv import (MohoGravityInvSpherical, make_mesh, TesseroidRelief,\n",
    "                     split_data, score_test_set, score_seismic_constraints, \n",
    "                     score_all, fit_all, predict_seismic)"
   ]
  },
  {
   "cell_type": "markdown",
   "metadata": {},
   "source": [
    "Get the number of cores in this computer to run the some things in parallel."
   ]
  },
  {
   "cell_type": "code",
   "execution_count": 8,
   "metadata": {
    "jupyter": {
     "outputs_hidden": false
    }
   },
   "outputs": [
    {
     "name": "stdout",
     "output_type": "stream",
     "text": [
      "Number of cores: 8\n"
     ]
    }
   ],
   "source": [
    "ncpu = multiprocessing.cpu_count()\n",
    "print(\"Number of cores: {}\".format(ncpu))"
   ]
  },
  {
   "cell_type": "markdown",
   "metadata": {},
   "source": [
    "## Generate the synthetic data"
   ]
  },
  {
   "cell_type": "markdown",
   "metadata": {},
   "source": [
    "### Load the CRUST1 model for South America"
   ]
  },
  {
   "cell_type": "markdown",
   "metadata": {},
   "source": [
    "Get the CRUST1.0 data from the archive file and cut it to South America."
   ]
  },
  {
   "cell_type": "code",
   "execution_count": 9,
   "metadata": {
    "jupyter": {
     "outputs_hidden": false
    }
   },
   "outputs": [],
   "source": [
    "crust1 = fetch_crust1('../data/crust1.0.tar.gz').cut((-60, 20, -90, -30))"
   ]
  },
  {
   "cell_type": "markdown",
   "metadata": {},
   "source": [
    "Establish a reference level for the Moho of the Normal Earth (given as height above the ellipsoid in meters, thus it is negative)."
   ]
  },
  {
   "cell_type": "code",
   "execution_count": 10,
   "metadata": {
    "jupyter": {
     "outputs_hidden": true
    }
   },
   "outputs": [],
   "source": [
    "reference = -30e3"
   ]
  },
  {
   "cell_type": "markdown",
   "metadata": {},
   "source": [
    "Create a `TesseroidRelief` model of the Moho using a homogeneous density-contrast so that we can use in forward modeling."
   ]
  },
  {
   "cell_type": "code",
   "execution_count": 11,
   "metadata": {
    "jupyter": {
     "outputs_hidden": true
    }
   },
   "outputs": [],
   "source": [
    "moho_density_contrast = 350"
   ]
  },
  {
   "cell_type": "code",
   "execution_count": 12,
   "metadata": {
    "jupyter": {
     "outputs_hidden": true
    }
   },
   "outputs": [],
   "source": [
    "model = TesseroidRelief(crust1.area, crust1.shape, relief=-crust1.moho_depth.ravel(), \n",
    "                        reference=reference)\n",
    "density = moho_density_contrast*np.ones(model.size)\n",
    "density[model.relief < model.reference] *= -1\n",
    "model.addprop('density', density)"
   ]
  },
  {
   "cell_type": "code",
   "execution_count": 13,
   "metadata": {
    "jupyter": {
     "outputs_hidden": false
    }
   },
   "outputs": [
    {
     "name": "stdout",
     "output_type": "stream",
     "text": [
      "Tesseroids in the model (M_lat x M_lon): 80 x 60 = 4800\n"
     ]
    }
   ],
   "source": [
    "print('Tesseroids in the model (M_lat x M_lon): {} x {} = {}'.format(\n",
    "    model.shape[0], model.shape[1], model.size))"
   ]
  },
  {
   "cell_type": "markdown",
   "metadata": {},
   "source": [
    "Make a plot of the Moho depth using an appropriate map projection."
   ]
  },
  {
   "cell_type": "code",
   "execution_count": 14,
   "metadata": {
    "jupyter": {
     "outputs_hidden": false
    }
   },
   "outputs": [],
   "source": [
    "bm = Basemap(projection='cyl', \n",
    "             llcrnrlon=crust1.area[2], urcrnrlon=crust1.area[3], \n",
    "             llcrnrlat=crust1.area[0], urcrnrlat=crust1.area[1],\n",
    "             resolution='l')"
   ]
  },
  {
   "cell_type": "code",
   "execution_count": 15,
   "metadata": {
    "jupyter": {
     "outputs_hidden": false
    }
   },
   "outputs": [
    {
     "data": {
      "image/png": "[encoded data removed]",
      "text/plain": [
       "<Figure size 504x432 with 2 Axes>"
      ]
     },
     "metadata": {
      "needs_background": "light"
     },
     "output_type": "display_data"
    }
   ],
   "source": [
    "x, y = bm(model.lon.reshape(model.shape), model.lat.reshape(model.shape))\n",
    "\n",
    "plt.figure(figsize=(7, 6))\n",
    "plt.title('Moho depth')\n",
    "bm.pcolormesh(x, y, -0.001*model.relief.reshape(model.shape), cmap='Greens')\n",
    "plt.colorbar(pad=0.01).set_label('km')\n",
    "bm.drawmeridians(np.arange(-80, -30, 10), labels=[0, 0, 0, 1], linewidth=0.2)\n",
    "bm.drawparallels(np.arange(-50, 30, 15), labels=[1, 0, 0, 0], linewidth=0.2)\n",
    "plt.tight_layout(pad=0)"
   ]
  },
  {
   "cell_type": "markdown",
   "metadata": {},
   "source": [
    "### Forward model the synthetic data"
   ]
  },
  {
   "cell_type": "markdown",
   "metadata": {},
   "source": [
    "Generate the computation grid for our synthetic dataset. The grid will have half the spacing of the model. This way, we'll have more points than we'll need to run the inversion. The extra points will be separated into a *test dataset* for cross-validation (see section [Cross-validation](#Cross-validation) below)."
   ]
  },
  {
   "cell_type": "code",
   "execution_count": 16,
   "metadata": {
    "jupyter": {
     "outputs_hidden": false
    }
   },
   "outputs": [
    {
     "name": "stdout",
     "output_type": "stream",
     "text": [
      "Number of grid points: 159 x 119 = 18921\n",
      "Grid height: 50000.0 m\n"
     ]
    }
   ],
   "source": [
    "# clon and clat are the coordinates of the center of each model cell\n",
    "area = [model.clat.min(), model.clat.max(), model.clon.min(), model.clon.max()]\n",
    "# Increase the shape to have half the grid spacing\n",
    "full_shape = [s*2 - 1 for s in model.shape]\n",
    "grid_height = 50e3\n",
    "full_lat, full_lon, full_height = gridder.regular(area, full_shape, z=grid_height)\n",
    "print('Number of grid points: {} x {} = {}'.format(full_shape[0], full_shape[1], \n",
    "                                                   full_shape[0]*full_shape[1]))\n",
    "print('Grid height: {} m'.format(grid_height))"
   ]
  },
  {
   "cell_type": "markdown",
   "metadata": {},
   "source": [
    "Calculate the synthetic data and contaminate it with pseudo-random gaussian noise."
   ]
  },
  {
   "cell_type": "code",
   "execution_count": 77,
   "metadata": {
    "jupyter": {
     "outputs_hidden": false
    }
   },
   "outputs": [
    {
     "ename": "AttributeError",
     "evalue": "'int' object has no attribute 'shape'",
     "output_type": "error",
     "traceback": [
      "\u001b[1;31m\u001b[0m",
      "\u001b[1;31mAttributeError\u001b[0mTraceback (most recent call last)",
      "\u001b[1;32m<ipython-input-77-b383927b9e51>\u001b[0m in \u001b[0;36m<module>\u001b[1;34m()\u001b[0m\n\u001b[0;32m      1\u001b[0m \u001b[0mfull_data_noisefree\u001b[0m \u001b[1;33m=\u001b[0m \u001b[0mtesseroid\u001b[0m\u001b[1;33m.\u001b[0m\u001b[0mgz\u001b[0m\u001b[1;33m(\u001b[0m\u001b[0mfull_lon\u001b[0m\u001b[1;33m,\u001b[0m \u001b[0mfull_lat\u001b[0m\u001b[1;33m,\u001b[0m \u001b[0mfull_height\u001b[0m\u001b[1;33m,\u001b[0m \u001b[0mmodel\u001b[0m\u001b[1;33m,\u001b[0m \u001b[0mnjobs\u001b[0m\u001b[1;33m=\u001b[0m\u001b[0mncpu\u001b[0m\u001b[1;33m)\u001b[0m\u001b[1;33m\u001b[0m\u001b[0m\n\u001b[0;32m      2\u001b[0m \u001b[0mfull_data\u001b[0m \u001b[1;33m=\u001b[0m \u001b[0mutils\u001b[0m\u001b[1;33m.\u001b[0m\u001b[0mcontaminate\u001b[0m\u001b[1;33m(\u001b[0m\u001b[0mfull_data_noisefree\u001b[0m\u001b[1;33m,\u001b[0m \u001b[1;36m5\u001b[0m\u001b[1;33m,\u001b[0m \u001b[0mseed\u001b[0m\u001b[1;33m=\u001b[0m\u001b[1;36m0\u001b[0m\u001b[1;33m)\u001b[0m \u001b[1;31m# add unmodelled mass (mariani 2013 paper)\u001b[0m\u001b[1;33m\u001b[0m\u001b[0m\n\u001b[1;32m----> 3\u001b[1;33m \u001b[0mpractice_model\u001b[0m \u001b[1;33m=\u001b[0m \u001b[0mtesseroid\u001b[0m\u001b[1;33m.\u001b[0m\u001b[0mgz\u001b[0m\u001b[1;33m(\u001b[0m\u001b[1;36m55\u001b[0m\u001b[1;33m,\u001b[0m \u001b[1;36m48\u001b[0m\u001b[1;33m,\u001b[0m \u001b[1;36m25\u001b[0m\u001b[1;33m,\u001b[0m \u001b[1;36m18\u001b[0m\u001b[1;33m,\u001b[0m \u001b[1;33m-\u001b[0m\u001b[1;36m100\u001b[0m\u001b[1;33m,\u001b[0m \u001b[1;33m-\u001b[0m\u001b[1;36m200\u001b[0m\u001b[1;33m,\u001b[0m \u001b[1;33m{\u001b[0m\u001b[1;34m'density'\u001b[0m\u001b[1;33m:\u001b[0m\u001b[1;36m200\u001b[0m\u001b[1;33m}\u001b[0m\u001b[1;33m)\u001b[0m\u001b[1;33m\u001b[0m\u001b[0m\n\u001b[0m",
      "\u001b[1;32mC:\\Users\\Aidan\\anaconda3\\envs\\moho\\lib\\site-packages\\fatiando\\gravmag\\tesseroid.pyc\u001b[0m in \u001b[0;36mgz\u001b[1;34m(lon, lat, height, model, dens, ratio, njobs, pool)\u001b[0m\n\u001b[0;32m    486\u001b[0m     \u001b[0mfield\u001b[0m \u001b[1;33m=\u001b[0m \u001b[1;34m'gz'\u001b[0m\u001b[1;33m\u001b[0m\u001b[0m\n\u001b[0;32m    487\u001b[0m     result = _dispatcher(field, lon, lat, height, model, dens=dens,\n\u001b[1;32m--> 488\u001b[1;33m                          ratio=ratio, njobs=njobs, pool=pool)\n\u001b[0m\u001b[0;32m    489\u001b[0m     \u001b[0mresult\u001b[0m \u001b[1;33m*=\u001b[0m \u001b[0mSI2MGAL\u001b[0m\u001b[1;33m*\u001b[0m\u001b[0mG\u001b[0m\u001b[1;33m\u001b[0m\u001b[0m\n\u001b[0;32m    490\u001b[0m     \u001b[1;32mreturn\u001b[0m \u001b[0mresult\u001b[0m\u001b[1;33m\u001b[0m\u001b[0m\n",
      "\u001b[1;32mC:\\Users\\Aidan\\anaconda3\\envs\\moho\\lib\\site-packages\\fatiando\\gravmag\\tesseroid.pyc\u001b[0m in \u001b[0;36m_dispatcher\u001b[1;34m(field, lon, lat, height, model, **kwargs)\u001b[0m\n\u001b[0;32m    185\u001b[0m     \u001b[0mdens\u001b[0m \u001b[1;33m=\u001b[0m \u001b[0mkwargs\u001b[0m\u001b[1;33m[\u001b[0m\u001b[1;34m'dens'\u001b[0m\u001b[1;33m]\u001b[0m\u001b[1;33m\u001b[0m\u001b[0m\n\u001b[0;32m    186\u001b[0m     \u001b[0mratio\u001b[0m \u001b[1;33m=\u001b[0m \u001b[0mkwargs\u001b[0m\u001b[1;33m[\u001b[0m\u001b[1;34m'ratio'\u001b[0m\u001b[1;33m]\u001b[0m\u001b[1;33m\u001b[0m\u001b[0m\n\u001b[1;32m--> 187\u001b[1;33m     \u001b[0mresult\u001b[0m \u001b[1;33m=\u001b[0m \u001b[0m_check_input\u001b[0m\u001b[1;33m(\u001b[0m\u001b[0mlon\u001b[0m\u001b[1;33m,\u001b[0m \u001b[0mlat\u001b[0m\u001b[1;33m,\u001b[0m \u001b[0mheight\u001b[0m\u001b[1;33m,\u001b[0m \u001b[0mmodel\u001b[0m\u001b[1;33m,\u001b[0m \u001b[0mratio\u001b[0m\u001b[1;33m,\u001b[0m \u001b[0mnjobs\u001b[0m\u001b[1;33m,\u001b[0m \u001b[0mpool\u001b[0m\u001b[1;33m)\u001b[0m\u001b[1;33m\u001b[0m\u001b[0m\n\u001b[0m\u001b[0;32m    188\u001b[0m     \u001b[1;32mif\u001b[0m \u001b[0mnjobs\u001b[0m \u001b[1;33m>\u001b[0m \u001b[1;36m1\u001b[0m \u001b[1;32mand\u001b[0m \u001b[0mpool\u001b[0m \u001b[1;32mis\u001b[0m \u001b[0mNone\u001b[0m\u001b[1;33m:\u001b[0m\u001b[1;33m\u001b[0m\u001b[0m\n\u001b[0;32m    189\u001b[0m         \u001b[0mpool\u001b[0m \u001b[1;33m=\u001b[0m \u001b[0mmultiprocessing\u001b[0m\u001b[1;33m.\u001b[0m\u001b[0mPool\u001b[0m\u001b[1;33m(\u001b[0m\u001b[0mnjobs\u001b[0m\u001b[1;33m)\u001b[0m\u001b[1;33m\u001b[0m\u001b[0m\n",
      "\u001b[1;32mC:\\Users\\Aidan\\anaconda3\\envs\\moho\\lib\\site-packages\\fatiando\\gravmag\\tesseroid.pyc\u001b[0m in \u001b[0;36m_check_input\u001b[1;34m(lon, lat, height, model, ratio, njobs, pool)\u001b[0m\n\u001b[0;32m    116\u001b[0m \u001b[1;33m\u001b[0m\u001b[0m\n\u001b[0;32m    117\u001b[0m     \"\"\"\n\u001b[1;32m--> 118\u001b[1;33m     \u001b[1;32massert\u001b[0m \u001b[0mlon\u001b[0m\u001b[1;33m.\u001b[0m\u001b[0mshape\u001b[0m \u001b[1;33m==\u001b[0m \u001b[0mlat\u001b[0m\u001b[1;33m.\u001b[0m\u001b[0mshape\u001b[0m \u001b[1;33m==\u001b[0m \u001b[0mheight\u001b[0m\u001b[1;33m.\u001b[0m\u001b[0mshape\u001b[0m\u001b[1;33m,\u001b[0m\u001b[0;31m \u001b[0m\u001b[0;31m\\\u001b[0m\u001b[1;33m\u001b[0m\u001b[0m\n\u001b[0m\u001b[0;32m    119\u001b[0m         \u001b[1;34m\"Input coordinate arrays must have same shape\"\u001b[0m\u001b[1;33m\u001b[0m\u001b[0m\n\u001b[0;32m    120\u001b[0m     \u001b[1;32massert\u001b[0m \u001b[0mratio\u001b[0m \u001b[1;33m>\u001b[0m \u001b[1;36m0\u001b[0m\u001b[1;33m,\u001b[0m \u001b[1;34m\"Invalid ratio {}. Must be > 0.\"\u001b[0m\u001b[1;33m.\u001b[0m\u001b[0mformat\u001b[0m\u001b[1;33m(\u001b[0m\u001b[0mratio\u001b[0m\u001b[1;33m)\u001b[0m\u001b[1;33m\u001b[0m\u001b[0m\n",
      "\u001b[1;31mAttributeError\u001b[0m: 'int' object has no attribute 'shape'"
     ]
    }
   ],
   "source": [
    "full_data_noisefree = tesseroid.gz(full_lon, full_lat, full_height, model, njobs=ncpu)\n",
    "full_data = utils.contaminate(full_data_noisefree, 5, seed=0) # add unmodelled mass (mariani 2013 paper)\n",
    "practice_model = tesseroid.gz(55, 48, 25, 18, -100, -200, {'density':200})"
   ]
  },
  {
   "cell_type": "code",
   "execution_count": 18,
   "metadata": {
    "jupyter": {
     "outputs_hidden": false
    }
   },
   "outputs": [
    {
     "data": {
      "image/png": "[encoded data removed]",
      "text/plain": [
       "<Figure size 504x432 with 2 Axes>"
      ]
     },
     "metadata": {
      "needs_background": "light"
     },
     "output_type": "display_data"
    }
   ],
   "source": [
    "x, y = bm(full_lon, full_lat)\n",
    "ranges = np.abs([full_data.min(), full_data.max()]).max()\n",
    "\n",
    "plt.figure(figsize=(7, 6))\n",
    "plt.title('Moho synthetic gravity anomaly')\n",
    "bm.contourf(x, y, full_data, 60, tri=True, cmap='RdBu_r', vmin=-ranges, vmax=ranges)\n",
    "plt.colorbar(pad=0.01, aspect=50).set_label('mGal')\n",
    "bm.drawmeridians(np.arange(-80, -30, 10), labels=[0, 0, 0, 1], linewidth=0.2)\n",
    "bm.drawparallels(np.arange(-50, 30, 15), labels=[1, 0, 0, 0], linewidth=0.2)\n",
    "plt.tight_layout()"
   ]
  },
  {
   "cell_type": "markdown",
   "metadata": {},
   "source": [
    "### Save the synthetic data and model\n",
    "\n",
    "We'll save the generated data and the corresponding model for later use and plotting. The data will be saved to the text file [../data/synthetic-data-crust1.txt](../data/synthetic-data-crust1.txt)."
   ]
  },
  {
   "cell_type": "code",
   "execution_count": 19,
   "metadata": {
    "jupyter": {
     "outputs_hidden": true
    }
   },
   "outputs": [],
   "source": [
    "now = datetime.datetime.utcnow().strftime('%d %B %Y %H:%M:%S UTC')\n",
    "header = \"\"\"# Generated by sinthetic-crust1.ipynb on {date}\n",
    "# shape (nlat, nlon):\n",
    "# {nlat} {nlon}\n",
    "# lat lon height gravity_anomaly_noisefree gravity_anomaly_noisy\n",
    "\"\"\".format(date=now, nlat=full_shape[0], nlon=full_shape[1])\n",
    "with open('../data/synthetic-data-crust1.txt', 'w') as f:\n",
    "    f.write(header)\n",
    "    np.savetxt(f, np.c_[full_lat, full_lon, full_height, full_data_noisefree, full_data],\n",
    "               fmt='%.5f')"
   ]
  },
  {
   "cell_type": "markdown",
   "metadata": {},
   "source": [
    "The model we'll save to a [Python pickle](https://docs.python.org/2/library/pickle.html) file. The `pickle` module allows us to serialize an object and load it back later. We'll use it to serialize the `model` object and save the file to the `model` folder."
   ]
  },
  {
   "cell_type": "code",
   "execution_count": 20,
   "metadata": {
    "jupyter": {
     "outputs_hidden": true
    }
   },
   "outputs": [],
   "source": [
    "now = datetime.datetime.utcnow().strftime('%d %B %Y %H:%M:%S UTC')\n",
    "model.metadata = \"Generated by sinthetic-crust1.ipynb on {date}\".format(date=now)\n",
    "with open('../model/synthetic-crust1.pickle', 'w') as f:\n",
    "    pickle.dump(model, f)"
   ]
  },
  {
   "cell_type": "markdown",
   "metadata": {},
   "source": [
    "## Cross-validation"
   ]
  },
  {
   "cell_type": "markdown",
   "metadata": {},
   "source": [
    "First, we must separate the dataset into two parts: one for the inversion, another for cross-validation. The inversion dataset will have double the grid spacing and (for this test) must fall on top of each grid cell. The remaining data will be used for cross-validation."
   ]
  },
  {
   "cell_type": "code",
   "execution_count": 21,
   "metadata": {
    "jupyter": {
     "outputs_hidden": false
    }
   },
   "outputs": [
    {
     "name": "stdout",
     "output_type": "stream",
     "text": [
      "Number of inversion grid points: 80 x 60 = 4800\n",
      "Number of test set points: 14121\n"
     ]
    }
   ],
   "source": [
    "inversion_set, test_set, shape = split_data([full_lat, full_lon, full_height, full_data], \n",
    "                                            full_shape, every_other=2)\n",
    "\n",
    "print(\"Number of inversion grid points: {} x {} = {}\".format(shape[0], shape[1], \n",
    "                                                             shape[0]*shape[1]))\n",
    "print(\"Number of test set points: {}\".format(test_set[0].size))"
   ]
  },
  {
   "cell_type": "markdown",
   "metadata": {},
   "source": [
    "Test if the inversion set falls on top of the model cells."
   ]
  },
  {
   "cell_type": "code",
   "execution_count": 22,
   "metadata": {
    "jupyter": {
     "outputs_hidden": true
    }
   },
   "outputs": [],
   "source": [
    "lat, lon, height, data = inversion_set\n",
    "assert np.allclose(model.clon.ravel(), lon, rtol=1e-10, atol=0)\n",
    "assert np.allclose(model.clat.ravel(), lat, rtol=1e-10, atol=0)"
   ]
  },
  {
   "cell_type": "markdown",
   "metadata": {},
   "source": [
    "No errors means that both checks (`assert`) passed."
   ]
  },
  {
   "cell_type": "markdown",
   "metadata": {},
   "source": [
    "Check if the score for the true model and error free data is 0 (perfect fit)."
   ]
  },
  {
   "cell_type": "code",
   "execution_count": 23,
   "metadata": {
    "jupyter": {
     "outputs_hidden": false
    }
   },
   "outputs": [
    {
     "data": {
      "text/plain": [
       "0.0"
      ]
     },
     "execution_count": 23,
     "metadata": {},
     "output_type": "execute_result"
    }
   ],
   "source": [
    "score_test_set(model, full_lat, full_lon, full_height, full_data_noisefree, njobs=ncpu)"
   ]
  },
  {
   "cell_type": "markdown",
   "metadata": {},
   "source": [
    "For this test, we'll assume that we **don't know the true reference level used or density contrast**. We'll try to estimate both through cross-validation. This means that there will be **two types of cross-validation**: \n",
    "\n",
    "1. Testing agains the `test_set` for the regularization parameter\n",
    "2. Testing against some other constraints for the reference level and density contrast\n",
    "\n",
    "These \"other constraints\" will come some point information about the Moho depth in some isolated points. In reality, these point depths could come from seismic experiments."
   ]
  },
  {
   "cell_type": "markdown",
   "metadata": {},
   "source": [
    "We'll generate some fictional point constraints by taking the true value from our Moho model. The point coordinates chosen for this come from the seismic dataset of [Assumpção et al. (2013)](http://dx.doi.org/10.1016%2Fj.tecto.2012.11.014). We'll interpolate the values of the CRUST1 Moho depth onto these points."
   ]
  },
  {
   "cell_type": "code",
   "execution_count": 24,
   "metadata": {
    "jupyter": {
     "outputs_hidden": true
    }
   },
   "outputs": [],
   "source": [
    "tmp = fetch_assumpcao_moho_points('../data/Moho_Map_SAm2013_data.tar.gz')\n",
    "lat_points, lon_points = tmp[:2]"
   ]
  },
  {
   "cell_type": "code",
   "execution_count": 25,
   "metadata": {
    "jupyter": {
     "outputs_hidden": false
    }
   },
   "outputs": [],
   "source": [
    "seismic_points = gridder.interp_at(model.clat.ravel(), model.clon.ravel(), \n",
    "                                   model.relief, lat_points, lon_points)"
   ]
  },
  {
   "cell_type": "code",
   "execution_count": 26,
   "metadata": {
    "jupyter": {
     "outputs_hidden": false
    }
   },
   "outputs": [
    {
     "name": "stdout",
     "output_type": "stream",
     "text": [
      "Number of seismic points: 937\n"
     ]
    }
   ],
   "source": [
    "print('Number of seismic points: {}'.format(seismic_points.size))"
   ]
  },
  {
   "cell_type": "code",
   "execution_count": 27,
   "metadata": {
    "jupyter": {
     "outputs_hidden": true
    }
   },
   "outputs": [],
   "source": [
    "test_points = [lat_points, lon_points, seismic_points]"
   ]
  },
  {
   "cell_type": "code",
   "execution_count": 28,
   "metadata": {
    "jupyter": {
     "outputs_hidden": false
    }
   },
   "outputs": [
    {
     "data": {
      "image/png": "[encoded data removed]",
      "text/plain": [
       "<Figure size 504x432 with 2 Axes>"
      ]
     },
     "metadata": {
      "needs_background": "light"
     },
     "output_type": "display_data"
    }
   ],
   "source": [
    "x, y = bm(lon_points, lat_points)\n",
    "\n",
    "plt.figure(figsize=(7, 6))\n",
    "plt.title('Moho depth point constraints')\n",
    "bm.scatter(x, y, c=-0.001*seismic_points, s=20, cmap='Greens')\n",
    "plt.colorbar(pad=0.01, aspect=50).set_label('km')\n",
    "bm.drawmeridians(np.arange(-80, -30, 10), labels=[0, 0, 0, 1], linewidth=0.2)\n",
    "bm.drawparallels(np.arange(-50, 30, 15), labels=[1, 0, 0, 0], linewidth=0.2)\n",
    "bm.drawcoastlines(color=\"#666666\")\n",
    "plt.tight_layout()"
   ]
  },
  {
   "cell_type": "markdown",
   "metadata": {},
   "source": [
    "ZWe can check if our scoring function from [mohoinv.py](mohoinv.py) works by feeding it the true model and the extracted points. The MSE should be zero."
   ]
  },
  {
   "cell_type": "code",
   "execution_count": 29,
   "metadata": {
    "jupyter": {
     "outputs_hidden": false
    }
   },
   "outputs": [
    {
     "data": {
      "text/plain": [
       "0.0"
      ]
     },
     "execution_count": 29,
     "metadata": {},
     "output_type": "execute_result"
    }
   ],
   "source": [
    "score_seismic_constraints(model, lat_points, lon_points, seismic_points)"
   ]
  },
  {
   "cell_type": "markdown",
   "metadata": {},
   "source": [
    "Save our synthetic seismic constraints to a file so that we can plot it later."
   ]
  },
  {
   "cell_type": "code",
   "execution_count": 30,
   "metadata": {
    "jupyter": {
     "outputs_hidden": true
    }
   },
   "outputs": [],
   "source": [
    "now = datetime.datetime.utcnow().strftime('%d %B %Y %H:%M:%S UTC')\n",
    "header = \"\"\"# Synthetic point estimates of Moho depth (from CRUST1.0)\n",
    "# Generated by sinthetic-crust1.ipynb on {date}\n",
    "# Moho depth is given in meters.\n",
    "# lat lon depth\n",
    "\"\"\".format(date=now)\n",
    "with open('../data/crust1-point-depths.txt', 'w') as f:\n",
    "    f.write(header)\n",
    "    np.savetxt(f, np.c_[lat_points, lon_points, -seismic_points],\n",
    "               fmt='%.5f')"
   ]
  },
  {
   "cell_type": "markdown",
   "metadata": {},
   "source": [
    "## Inversion setup\n",
    "\n",
    "We need to generate a `TesseroidRelief` mesh for the inversion, give it a reference level and a density contrast. We'll assume that our mesh has the same geometry of the true model so that we can better compare the estimated and true Moho reliefs."
   ]
  },
  {
   "cell_type": "code",
   "execution_count": 31,
   "metadata": {
    "jupyter": {
     "outputs_hidden": true
    }
   },
   "outputs": [],
   "source": [
    "mesh = model.copy(deep=True)"
   ]
  },
  {
   "cell_type": "markdown",
   "metadata": {},
   "source": [
    "We'll also need an initial estimate, the solver and its configuration, and a regularization object."
   ]
  },
  {
   "cell_type": "code",
   "execution_count": 32,
   "metadata": {
    "jupyter": {
     "outputs_hidden": false
    }
   },
   "outputs": [],
   "source": [
    "misfit = MohoGravityInvSpherical(lat, lon, height, data, mesh)\n",
    "regul = Smoothness2D(mesh.shape)\n",
    "initial = -60e3*np.ones(mesh.size)  \n",
    "# The initial estimate doesn't really matter too much"
   ]
  },
  {
   "cell_type": "markdown",
   "metadata": {},
   "source": [
    "## Plotting functions\n",
    "\n",
    "We'll define some plotting functions here to avoid having all this code down with the results. You can safely skip (not read) this section because we only define the functions here. They are called after the inversion below."
   ]
  },
  {
   "cell_type": "code",
   "execution_count": 33,
   "metadata": {
    "jupyter": {
     "outputs_hidden": false
    }
   },
   "outputs": [],
   "source": [
    "def plot_fit(lat, lon, data, solution, bm):    \n",
    "    ranges = np.abs([data.max(), data.min()]).max()\n",
    "    \n",
    "    plt.figure(figsize=(7, 6))\n",
    "    plt.title('Observed (color) and predicted (contour) data')    \n",
    "    levels = mpl.contourf(lon, lat, data, shape, 40, cmap='RdBu_r', basemap=bm, \n",
    "                          vmin=-ranges, vmax=ranges)\n",
    "    plt.colorbar(pad=0.01).set_label('mGal')\n",
    "    mpl.contour(lon, lat, solution[0].predicted(), shape, levels, \n",
    "                basemap=bm, color='#333333')\n",
    "    bm.drawmeridians(np.arange(-80, -30, 10), labels=[0, 0, 0, 1], linewidth=0.2)\n",
    "    bm.drawparallels(np.arange(-50, 30, 15), labels=[1, 0, 0, 0], linewidth=0.2)\n",
    "    plt.tight_layout(pad=0)\n",
    "    \n",
    "def plot_residuals(solution):\n",
    "    residuals = solution[0].residuals()\n",
    "    \n",
    "    plt.figure(figsize=(3, 2.5))\n",
    "    plt.text(0.65, 0.8, \n",
    "             \"mean = {:.2f}\\nstd = {:.2f}\".format(residuals.mean(), residuals.std()), \n",
    "             transform=plt.gca().transAxes)\n",
    "    plt.hist(residuals, bins=20, normed=True, histtype='stepfilled')\n",
    "    plt.xlabel('Residuals (mGal)')\n",
    "    plt.ylabel('Normalized frequency')\n",
    "    plt.tight_layout(pad=0)\n",
    "    \n",
    "def plot_estimate(solution, bm):\n",
    "    moho = solution.estimate_\n",
    "    x, y = bm(moho.lons, moho.lats)\n",
    "    \n",
    "    plt.figure(figsize=(7, 6))\n",
    "    plt.title(\"Estimated Moho depth\")\n",
    "    bm.pcolormesh(x, y, -0.001*moho.relief.reshape(moho.shape), cmap='Greens')\n",
    "    plt.colorbar(pad=0.01).set_label('km')\n",
    "    bm.drawmeridians(np.arange(-80, -30, 10), labels=[0, 0, 0, 1], linewidth=0.2)\n",
    "    bm.drawparallels(np.arange(-50, 30, 15), labels=[1, 0, 0, 0], linewidth=0.2)\n",
    "    plt.tight_layout(pad=0)\n",
    "\n",
    "def plot_diff(solution, model, bm):\n",
    "    moho = solution.estimate_\n",
    "    diff = -0.001*(model.relief - moho.relief).reshape(moho.shape)\n",
    "    ranges = np.abs([diff.max(), diff.min()]).max()\n",
    "    x, y = bm(moho.lons, moho.lats)\n",
    "    \n",
    "    plt.figure(figsize=(7, 6))\n",
    "    plt.title(\"Difference between true and estimated\")  \n",
    "    bm.pcolormesh(x, y, diff, cmap='RdYlBu_r', vmin=-ranges, vmax=ranges)\n",
    "    plt.colorbar(pad=0.01).set_label('km')\n",
    "    bm.drawmeridians(np.arange(-40, 45, 20), labels=[0, 0, 0, 1], linewidth=0)\n",
    "    bm.drawparallels(np.arange(20, 65, 20), labels=[1, 0, 0, 0], linewidth=0)\n",
    "    plt.tight_layout(pad=0)\n",
    "    \n",
    "def plot_diff_hist(solution, model):\n",
    "    moho = solution.estimate_\n",
    "    diff = -0.001*(model.relief - moho.relief)\n",
    "    \n",
    "    plt.figure(figsize=(3, 2.5))\n",
    "    plt.title('Difference (true model)')\n",
    "    plt.text(0.65, 0.8, \n",
    "             \"mean = {:.2f}\\nstd = {:.2f}\".format(diff.mean(), diff.std()), \n",
    "             transform=plt.gca().transAxes) \n",
    "    # Use the line above so the text coordinates are in axes coordinates (0 to 1)\n",
    "    # instead of data coordinates, which may vary between runs.\n",
    "    plt.hist(diff.ravel(), bins=20, normed=True, histtype='stepfilled')\n",
    "    plt.xlabel('Differences (km)')\n",
    "    plt.ylabel('Normalized frequency')\n",
    "    plt.tight_layout(pad=0)\n",
    "    \n",
    "def plot_diff_seismic(solution, test_points, bm):\n",
    "    moho = solution.estimate_\n",
    "    x, y = bm(moho.lons, moho.lats)\n",
    "    diff = -0.001*(test_points[-1] - predict_seismic(moho, *test_points[:2]))\n",
    "    ranges = np.abs([diff.max(), diff.min()]).max()\n",
    "    lat, lon, depth = test_points\n",
    "    xp, yp = bm(lon, lat)\n",
    "   \n",
    "    fig = plt.figure(figsize=(7, 6))\n",
    "    bm.pcolormesh(x, y, -0.001*moho.relief.reshape(moho.shape), cmap='Greens')\n",
    "    plt.colorbar(pad=0.01, aspect=50).set_label('Estimated Moho depth (km)')\n",
    "    bm.scatter(xp, yp, c=diff, s=40, cmap='PuOr_r', \n",
    "                     vmin=-ranges, vmax=ranges, linewidths=0.1)\n",
    "    cb = plt.colorbar(pad=0.01, aspect=50)\n",
    "    cb.set_label('Difference between estimated and seismic (km)')\n",
    "    bm.drawmeridians(np.arange(-80, -30, 10), labels=[0, 0, 1, 0], linewidth=0.2)\n",
    "    bm.drawparallels(np.arange(-50, 30, 15), labels=[1, 0, 0, 0], linewidth=0.2)\n",
    "    plt.tight_layout(pad=0)\n",
    "    \n",
    "def plot_diff_seismic_hist(solution, test_points):\n",
    "    moho = solution.estimate_\n",
    "    diff = -0.001*(test_points[-1] - predict_seismic(moho, *test_points[:2]))\n",
    "\n",
    "    plt.figure(figsize=(3, 2.5))\n",
    "    plt.title('Difference (seismic points)')\n",
    "    plt.text(0.65, 0.8, \n",
    "             \"mean = {:.2f}\\nstd = {:.2f}\".format(diff.mean(), diff.std()), \n",
    "             transform=plt.gca().transAxes)\n",
    "    # Use the line above so the text coordinates are in axes coordinates (0 to 1)\n",
    "    # instead of data coordinates, which may vary between runs.\n",
    "    plt.hist(diff, bins=20, normed=True, histtype='stepfilled')\n",
    "    plt.xlabel('Differences (km)')\n",
    "    plt.ylabel('Normalized frequency')\n",
    "    plt.tight_layout(pad=0)\n",
    "\n",
    "def plot_cv_regul(regul_params, scores, best, log=True): \n",
    "    plt.figure(figsize=(5, 3))\n",
    "    plt.title('Cross-validation (regularization parameter)')\n",
    "    plt.plot(regul_params, scores, marker='o')\n",
    "    plt.plot(regul_params[best], scores[best], 's', markersize=10, \n",
    "             color=seaborn.color_palette()[2], label='Minimum')\n",
    "    plt.legend(loc='upper left')\n",
    "    plt.xscale('log')\n",
    "    if log:\n",
    "        plt.yscale('log')\n",
    "    plt.xlabel('Regularization parameter')\n",
    "    plt.ylabel(u'Mean Square Error')\n",
    "    plt.tight_layout(pad=0)\n",
    "    \n",
    "def plot_cv_ref_dens(densities, reference_levels, scores, best_dens, best_ref):\n",
    "    plt.figure(figsize=(5, 3))\n",
    "    plt.title('Cross-validation (reference level and density)')\n",
    "    plt.contourf(-0.001*reference_levels, densities, scores, 30, cmap='BuPu_r')\n",
    "    plt.colorbar(pad=0.01).set_label('Mean Square Error')\n",
    "    plt.plot(-0.001*reference_levels[best_ref], densities[best_dens], 's', markersize=10, \n",
    "             color=seaborn.color_palette()[2], label='Minimum')\n",
    "    l = plt.legend(loc='upper left')\n",
    "    for txt in l.get_texts():\n",
    "        txt.set_color('#ffffff')\n",
    "    plt.xlabel('Reference level (km)')\n",
    "    plt.ylabel(u'Density contrast (kg/m³)')\n",
    "    plt.tight_layout(pad=0)\n",
    "    \n",
    "def plot_convergence(solution, log=True):\n",
    "    plt.figure(figsize=(5, 3))\n",
    "    plt.title('Convergence')\n",
    "    plt.plot(range(solution.stats_['iterations'] + 1), solution.stats_['objective'])\n",
    "    plt.xlabel('Iteration')\n",
    "    plt.ylabel('Goal function')\n",
    "    if log:\n",
    "        plt.yscale('log')\n",
    "    plt.tight_layout(pad=0)"
   ]
  },
  {
   "cell_type": "markdown",
   "metadata": {},
   "source": [
    "## Run the inversion and cross-validations"
   ]
  },
  {
   "cell_type": "markdown",
   "metadata": {},
   "source": [
    "We'll keep the results in a Python dictionary (`dict`) along with all configuration and other metadata. We can then save this dict to a Pickle file and have inversion information saved with the results."
   ]
  },
  {
   "cell_type": "code",
   "execution_count": 34,
   "metadata": {
    "jupyter": {
     "outputs_hidden": true
    }
   },
   "outputs": [],
   "source": [
    "results = dict()"
   ]
  },
  {
   "cell_type": "markdown",
   "metadata": {},
   "source": [
    "Save also the configuration for the solver. We'll use the Gauss-Newton formulation of the inversion."
   ]
  },
  {
   "cell_type": "code",
   "execution_count": 35,
   "metadata": {
    "jupyter": {
     "outputs_hidden": true
    }
   },
   "outputs": [],
   "source": [
    "results['config'] = dict(method='newton', initial=initial, tol=0.2, maxit=15)"
   ]
  },
  {
   "cell_type": "markdown",
   "metadata": {},
   "source": [
    "These are the values of the regularization parameter, reference level, and density contrast that we'll use."
   ]
  },
  {
   "cell_type": "code",
   "execution_count": 36,
   "metadata": {
    "jupyter": {
     "outputs_hidden": false
    }
   },
   "outputs": [
    {
     "data": {
      "text/plain": [
       "array([  1.00000000e-05,   1.00000000e-04,   1.00000000e-03])"
      ]
     },
     "execution_count": 36,
     "metadata": {},
     "output_type": "execute_result"
    }
   ],
   "source": [
    "results['regul_params'] = np.logspace(-5, -3, 3)\n",
    "results['regul_params']"
   ]
  },
  {
   "cell_type": "code",
   "execution_count": 37,
   "metadata": {
    "jupyter": {
     "outputs_hidden": false
    }
   },
   "outputs": [
    {
     "data": {
      "text/plain": [
       "array([-32500., -30000., -27500.])"
      ]
     },
     "execution_count": 37,
     "metadata": {},
     "output_type": "execute_result"
    }
   ],
   "source": [
    "results['reference_levels'] = np.arange(-32.5e3, -27.5e3 + 1, 2500)\n",
    "results['reference_levels']"
   ]
  },
  {
   "cell_type": "code",
   "execution_count": 38,
   "metadata": {
    "jupyter": {
     "outputs_hidden": false
    }
   },
   "outputs": [
    {
     "data": {
      "text/plain": [
       "array([300, 350, 400])"
      ]
     },
     "execution_count": 38,
     "metadata": {},
     "output_type": "execute_result"
    }
   ],
   "source": [
    "results['densities'] = np.arange(300, 400 + 1, 50)\n",
    "results['densities']"
   ]
  },
  {
   "cell_type": "markdown",
   "metadata": {},
   "source": [
    "First, run the cross-validation to find the regularization parameter. We'll use one of the values for the reference and density contrast. The value of the regularization parameter that we estimate here will be used in the second cross-validation to find the density contrast and reference level."
   ]
  },
  {
   "cell_type": "code",
   "execution_count": 39,
   "metadata": {
    "jupyter": {
     "outputs_hidden": false
    }
   },
   "outputs": [
    {
     "data": {
      "text/plain": [
       "<mohoinv.MohoGravityInvSpherical at 0x12b80da0>"
      ]
     },
     "execution_count": 39,
     "metadata": {},
     "output_type": "execute_result"
    }
   ],
   "source": [
    "misfit.set_density(results['densities'][-1]).set_reference(results['reference_levels'][-1])"
   ]
  },
  {
   "cell_type": "markdown",
   "metadata": {},
   "source": [
    "Run the inversion for each value in `regul_params` (in parallel using all available cores). "
   ]
  },
  {
   "cell_type": "code",
   "execution_count": 40,
   "metadata": {
    "jupyter": {
     "outputs_hidden": false
    }
   },
   "outputs": [
    {
     "name": "stdout",
     "output_type": "stream",
     "text": [
      "Wall time: 3min 47s\n"
     ]
    }
   ],
   "source": [
    "solvers = [(misfit + mu*regul).config(**results['config']) \n",
    "           for mu in results['regul_params']]\n",
    "\n",
    "%time solutions = fit_all(solvers, njobs=ncpu)"
   ]
  },
  {
   "cell_type": "markdown",
   "metadata": {},
   "source": [
    "Keep only the estimated models in the results dict instead of the whole solvers to reduce the size of the pickle file. We can calculate the predicted data, etc, from the model only."
   ]
  },
  {
   "cell_type": "code",
   "execution_count": 41,
   "metadata": {
    "jupyter": {
     "outputs_hidden": true
    }
   },
   "outputs": [],
   "source": [
    "results['models_regul'] = [s.estimate_ for s in solutions]"
   ]
  },
  {
   "cell_type": "markdown",
   "metadata": {},
   "source": [
    "Score the results against the test dataset."
   ]
  },
  {
   "cell_type": "code",
   "execution_count": 42,
   "metadata": {
    "jupyter": {
     "outputs_hidden": false
    }
   },
   "outputs": [
    {
     "name": "stdout",
     "output_type": "stream",
     "text": [
      "Wall time: 1min 17s\n"
     ]
    }
   ],
   "source": [
    "%%time \n",
    "results['scores_regul'] = score_all(results['models_regul'], test_set, \n",
    "                                    points=False, njobs=ncpu)"
   ]
  },
  {
   "cell_type": "markdown",
   "metadata": {},
   "source": [
    "The best solution is the one with the smallest cross-validation score."
   ]
  },
  {
   "cell_type": "code",
   "execution_count": 43,
   "metadata": {
    "jupyter": {
     "outputs_hidden": true
    }
   },
   "outputs": [],
   "source": [
    "best_regul = np.argmin(results['scores_regul'])\n",
    "results['best_regul'] = best_regul"
   ]
  },
  {
   "cell_type": "markdown",
   "metadata": {},
   "source": [
    "We'll use this solution as the inversion solver for the next cross-validation (for the reference level and density)."
   ]
  },
  {
   "cell_type": "code",
   "execution_count": 44,
   "metadata": {
    "jupyter": {
     "outputs_hidden": true
    }
   },
   "outputs": [],
   "source": [
    "results['solution_regul'] = solutions[best_regul]"
   ]
  },
  {
   "cell_type": "markdown",
   "metadata": {},
   "source": [
    "But first, let's take a look at the current solution.\n",
    "\n",
    "Plot the cross-validation scores."
   ]
  },
  {
   "cell_type": "code",
   "execution_count": 45,
   "metadata": {
    "jupyter": {
     "outputs_hidden": false
    }
   },
   "outputs": [
    {
     "data": {
      "image/png": "[encoded data removed]",
      "text/plain": [
       "<Figure size 360x216 with 1 Axes>"
      ]
     },
     "metadata": {
      "needs_background": "light"
     },
     "output_type": "display_data"
    }
   ],
   "source": [
    "plot_cv_regul(results['regul_params'], results['scores_regul'], \n",
    "              results['best_regul'], log=True)\n",
    "plt.grid(True, which='both', axis='y')"
   ]
  },
  {
   "cell_type": "markdown",
   "metadata": {},
   "source": [
    "The inversion residuals (to see if the solution fits the data)."
   ]
  },
  {
   "cell_type": "code",
   "execution_count": 46,
   "metadata": {
    "jupyter": {
     "outputs_hidden": false
    }
   },
   "outputs": [
    {
     "data": {
      "image/png": "[encoded data removed]",
      "text/plain": [
       "<Figure size 216x180 with 1 Axes>"
      ]
     },
     "metadata": {
      "needs_background": "light"
     },
     "output_type": "display_data"
    }
   ],
   "source": [
    "plot_residuals(results['solution_regul'])"
   ]
  },
  {
   "cell_type": "markdown",
   "metadata": {},
   "source": [
    "The solution itself to see if it is smooth enough."
   ]
  },
  {
   "cell_type": "code",
   "execution_count": 47,
   "metadata": {
    "jupyter": {
     "outputs_hidden": false
    }
   },
   "outputs": [
    {
     "data": {
      "image/png": "[encoded data removed]",
      "text/plain": [
       "<Figure size 504x432 with 2 Axes>"
      ]
     },
     "metadata": {
      "needs_background": "light"
     },
     "output_type": "display_data"
    }
   ],
   "source": [
    "plot_estimate(results['solution_regul'], bm)"
   ]
  },
  {
   "cell_type": "markdown",
   "metadata": {},
   "source": [
    "Now, run the second cross-validation to estimate the density-contrast and the reference level."
   ]
  },
  {
   "cell_type": "code",
   "execution_count": 48,
   "metadata": {
    "jupyter": {
     "outputs_hidden": true
    }
   },
   "outputs": [],
   "source": [
    "def set_ref_dens(solver, ref, dens):\n",
    "    \"\"\"\n",
    "    Configure the solver to use this reference level and density.\n",
    "    \"\"\"\n",
    "    res = solver.copy(deep=True)\n",
    "    # res is a multi-objective with the misfit function + regularization\n",
    "    # res[0] is the misfit (our inversion class)\n",
    "    # res[1] is the Smoothness2D instance\n",
    "    res[0].set_density(dens).set_reference(ref)\n",
    "    return res"
   ]
  },
  {
   "cell_type": "code",
   "execution_count": 49,
   "metadata": {
    "jupyter": {
     "outputs_hidden": false
    }
   },
   "outputs": [
    {
     "name": "stdout",
     "output_type": "stream",
     "text": [
      "Wall time: 7min 36s\n"
     ]
    }
   ],
   "source": [
    "solvers = [set_ref_dens(results['solution_regul'], ref, dens) \n",
    "           for dens in results['densities'] \n",
    "           for ref in results['reference_levels']]\n",
    "\n",
    "%time solutions = fit_all(solvers, njobs=ncpu)"
   ]
  },
  {
   "cell_type": "markdown",
   "metadata": {},
   "source": [
    "Keep the only the estimated models in the results dict."
   ]
  },
  {
   "cell_type": "code",
   "execution_count": 50,
   "metadata": {
    "jupyter": {
     "outputs_hidden": true
    }
   },
   "outputs": [],
   "source": [
    "results['models_refdens'] = [s.estimate_ for s in solutions]"
   ]
  },
  {
   "cell_type": "markdown",
   "metadata": {},
   "source": [
    "Score the estimates against the seismic constraints."
   ]
  },
  {
   "cell_type": "code",
   "execution_count": 51,
   "metadata": {
    "jupyter": {
     "outputs_hidden": true
    }
   },
   "outputs": [],
   "source": [
    "cv_shape = (len(results['densities']), len(results['reference_levels']))"
   ]
  },
  {
   "cell_type": "markdown",
   "metadata": {},
   "source": [
    "Cross validation - training set"
   ]
  },
  {
   "cell_type": "code",
   "execution_count": 52,
   "metadata": {},
   "outputs": [],
   "source": [
    "#indices = np.arange(lat_points.size)      # test_points = [lat_points, lon_points, seismic_points]"
   ]
  },
  {
   "cell_type": "code",
   "execution_count": 53,
   "metadata": {},
   "outputs": [],
   "source": [
    "#set_train = np.random.choice(indices, size=624) # Size is 312 as lots of points (936) so taken out 1/3th"
   ]
  },
  {
   "cell_type": "code",
   "execution_count": 54,
   "metadata": {},
   "outputs": [],
   "source": [
    "#lat_train = lat_points[set_train]\n",
    "#lon_train = lon_points[set_train]\n",
    "#seis_train = seismic_points[set_train]"
   ]
  },
  {
   "cell_type": "code",
   "execution_count": 55,
   "metadata": {},
   "outputs": [],
   "source": [
    "#train_points = [lat_train, lon_train, seis_train]"
   ]
  },
  {
   "cell_type": "markdown",
   "metadata": {},
   "source": [
    "Cross validation - testing set"
   ]
  },
  {
   "cell_type": "code",
   "execution_count": 56,
   "metadata": {},
   "outputs": [],
   "source": [
    "#index = set_train\n",
    "#lat_test = np.delete(lat_points, index)\n",
    "#lon_test = np.delete(lon_points, index)\n",
    "#seismic_test = np.delete(seismic_points, index, axis=None)"
   ]
  },
  {
   "cell_type": "code",
   "execution_count": 57,
   "metadata": {},
   "outputs": [],
   "source": [
    "#results['scores_refdens'] = score_all(results['models_refdens'], test_points, \n",
    "                                      #points=True).reshape(cv_shape)"
   ]
  },
  {
   "cell_type": "code",
   "execution_count": 58,
   "metadata": {},
   "outputs": [],
   "source": [
    "#def score_seismic_constraints(moho, lat, lon, height):\n",
    "#    \"\"\"\n",
    "#    Return the MSE between the moho estimate and the point constraints.\n",
    "#    \"\"\"\n",
    "#    predicted = predict_seismic(moho, lat, lon)\n",
    "#    score = np.sum((predicted - height)**2)/height.size\n",
    "#    return score\n",
    "#"
   ]
  },
  {
   "cell_type": "code",
   "execution_count": 59,
   "metadata": {
    "jupyter": {
     "outputs_hidden": true
    }
   },
   "outputs": [],
   "source": [
    "#best = np.nanargmin(results['scores_refdens'])\n",
    "#results['solution'] = solutions[best]\n",
    "#results_training = results['solution']\n",
    "## Find the index in reference_levels and densities corresponding to best\n",
    "#results['best_dens'], results['best_ref'] = np.unravel_index(best, cv_shape)"
   ]
  },
  {
   "cell_type": "code",
   "execution_count": 60,
   "metadata": {},
   "outputs": [],
   "source": [
    "#score_seismic_constraints(model, lat_test, lon_test, seismic_test)"
   ]
  },
  {
   "cell_type": "markdown",
   "metadata": {},
   "source": [
    "Putting this step into a for loop"
   ]
  },
  {
   "cell_type": "code",
   "execution_count": null,
   "metadata": {},
   "outputs": [],
   "source": []
  },
  {
   "cell_type": "code",
   "execution_count": 61,
   "metadata": {},
   "outputs": [
    {
     "name": "stdout",
     "output_type": "stream",
     "text": [
      "[  5.54725440e+006   5.74010939e+006   6.06289969e+006   5.35795355e+006\n",
      "   4.91196533e+006   5.74882999e+006   4.97912519e+006   5.30629663e+006\n",
      "   5.31134642e+006   6.34284049e+006   5.44733074e+006   5.12991815e+006\n",
      "   5.08267634e+006   5.83532655e+006   5.18420297e+006   5.90944551e+006\n",
      "   4.95712869e+006   5.60881871e+006   5.11878364e+006   4.99036347e+006\n",
      "   4.63285678e+006   5.83948221e+006   5.36520740e+006   4.73377905e+006\n",
      "   5.74665295e+006   5.38897955e+006   5.79711959e+006   5.61576536e+006\n",
      "   5.85907343e+006   5.93885658e+006   4.65935527e+006   4.66526444e+006\n",
      "   6.06603844e+006   5.00756386e+006   5.98367974e+006   4.99761662e+006\n",
      "   6.02319859e+006   5.98033078e+006   5.49456475e+006   5.95731892e+006\n",
      "   5.61526162e+006   5.27772379e+006   6.21964529e+006   5.63938807e+006\n",
      "   5.37532017e+006   5.90361743e+006   6.30559171e+006   4.46198357e+006\n",
      "   5.58578849e+006   5.99669124e+006   5.60138157e+006   5.90591816e+006\n",
      "   5.76110965e+006   5.43557470e+006   5.11152479e+006   5.89901925e+006\n",
      "   4.81669046e+006   5.69321820e+006   5.29593524e+006   5.26087561e+006\n",
      "   4.85227191e+006   5.14917830e+006   5.41480724e+006   5.89760712e+006\n",
      "   5.36582263e+006   5.62024493e+006   4.32844683e+006   4.97604797e+006\n",
      "   5.53600065e+006   5.61407196e+006   4.95567811e+006   5.25997831e+006\n",
      "   5.48050145e+006   4.28002706e+006   5.62918837e+006   5.47318070e+006\n",
      "   5.32886162e+006   5.43858545e+006   4.91856645e+006   5.11914531e+006\n",
      "   5.55418410e+006   5.43130310e+006   5.43564072e+006   5.50504358e+006\n",
      "   5.52689338e+006   5.80929815e+006   6.30844331e+006   6.32489669e+006\n",
      "   4.62540813e+006   5.98978709e+006   5.63179659e+006   4.61020789e+006\n",
      "   5.25356760e+006   5.23902668e+006   5.79433304e+006   5.63797101e+006\n",
      "   5.26022924e+006   5.45612230e+006   4.92362374e+006   6.07522335e+006\n",
      "   5.54181122e+006   5.21337736e+006   5.57633056e+006   6.95383963e-308\n",
      "   4.45028353e-308   4.45028353e-308   1.33511561e-306   9.34598246e-307\n",
      "   4.45040660e-308   7.56556349e-307   1.02360867e-306   7.56598448e-307\n",
      "   1.37962185e-306   1.69121367e-306   2.31421941e-306   4.45019016e-308\n",
      "   4.45028353e-308   1.69109959e-306   1.78018811e-306   1.33511562e-306\n",
      "   1.33506604e-306   7.56602523e-307   1.29061821e-306   1.37961641e-306\n",
      "   6.67565023e-308   1.11260483e-306   7.78824657e-308   2.31421941e-306\n",
      "   1.60221072e-306   6.89810244e-307   9.34613864e-307   6.95375051e-308\n",
      "   4.45028353e-308   4.45028353e-308   1.78019082e-306   7.56602524e-307\n",
      "   1.61320571e-307   1.78019082e-306   1.11261230e-306   6.00808987e-307\n",
      "   6.89812281e-307   1.11260280e-306   4.45019016e-308   4.45028353e-308\n",
      "   1.24606309e-306   1.78018811e-306   1.33511562e-306   1.24606309e-306\n",
      "   1.42417629e-306   1.78020848e-306   9.34609111e-307   1.60221072e-306\n",
      "   6.45308767e-307   4.45028353e-308   4.45028353e-308   1.11260551e-306\n",
      "   1.60221072e-306   4.45061456e-308   9.34609110e-307   1.11261095e-306\n",
      "   1.37962185e-306   1.69121367e-306   1.78019625e-306   7.56602524e-307\n",
      "   1.39086851e-308   4.45028353e-308   4.45028353e-308   1.11260280e-306\n",
      "   1.37962185e-306   1.69121367e-306   6.00780807e-307   6.89812281e-307\n",
      "   1.11260280e-306   1.24606309e-306   1.78018811e-306   1.33511562e-306\n",
      "   9.34609110e-307   1.78018811e-306   1.33511562e-306   4.45028353e-308\n",
      "   4.45028353e-308   7.56598448e-307   9.34609790e-307   1.61320571e-307\n",
      "   8.34450230e-308   9.34604358e-307   1.24606852e-306   1.42417629e-306\n",
      "   1.78020848e-306   1.69109959e-306   1.78018811e-306   1.33511562e-306\n",
      "   4.45028353e-308   4.45028353e-308   1.37961913e-306   9.34609790e-307\n",
      "   1.61320571e-307   8.34450230e-308   9.34604358e-307   1.24606852e-306\n",
      "   1.42417629e-306   1.78020848e-306   1.69109959e-306   1.78018811e-306\n",
      "   1.33511562e-306   4.45028353e-308   4.45028353e-308   9.34609110e-307\n",
      "   1.11261095e-306   9.34609790e-307   1.61320571e-307   8.34450230e-308\n",
      "   9.34604358e-307   1.69111046e-306   1.29062093e-306   1.42417629e-306\n",
      "   1.78020848e-306   1.69109959e-306   1.78018811e-306   1.33511562e-306\n",
      "   4.45028353e-308   4.45028353e-308   9.34608431e-307   1.78020576e-306\n",
      "   1.69110910e-306   9.34608432e-307   9.34608432e-307   1.33511290e-306\n",
      "   4.45054241e-308   8.45606156e-307   6.89807188e-307   6.67567993e-308\n",
      "   1.86921822e-306   6.00808987e-307   8.90104918e-307   6.89811941e-307\n",
      "   8.90098806e-307   6.39757541e-308   1.78010255e-306   1.33511562e-306\n",
      "   1.11261230e-306   7.78824657e-308   4.45028353e-308   4.45028353e-308\n",
      "   4.45028353e-308   4.45028353e-308   4.45028353e-308   4.45028353e-308\n",
      "   4.45028353e-308   4.45028353e-308   4.45028353e-308   4.45028353e-308\n",
      "   4.45028353e-308   4.45028353e-308   1.33511562e-306   4.45035483e-307\n",
      "   7.78818716e-308   1.37961777e-306   1.33508574e-306   6.95385236e-308\n",
      "   1.69119330e-306   9.34607074e-307   6.89812960e-307   1.42417901e-306\n",
      "   4.45019016e-308   4.45028353e-308   8.01048319e-307   4.45064003e-308\n",
      "   1.42419666e-306   1.33511018e-306   1.29061278e-306   1.60210750e-306\n",
      "   1.24612081e-306   6.39747355e-308   1.60220393e-306   1.60218220e-306\n",
      "   9.34598925e-307   6.45284661e-307   4.45028353e-308   4.45028353e-308\n",
      "   9.34608431e-307   1.78020576e-306   1.69110910e-306   1.78021798e-306\n",
      "   6.39755419e-308   4.45040660e-308   1.86920872e-306   1.33511969e-306\n",
      "   9.34597567e-307   1.39086851e-308   4.45028353e-308   4.45028353e-308\n",
      "   4.45028353e-308   1.11258446e-306   1.78010255e-306   1.11255866e-306\n",
      "   2.13620807e-306   4.45061456e-308   9.34600284e-307   8.45602762e-307\n",
      "   9.34604358e-307   1.69120281e-306   8.90104239e-307   1.33511290e-306\n",
      "   1.11261570e-306   8.45549797e-307   9.34608432e-307   1.33511969e-306\n",
      "   1.02360867e-306   4.45061881e-308   1.78021527e-306   4.45028353e-308\n",
      "   4.45028353e-308   2.33646845e-307   1.24610723e-306   6.00808987e-307\n",
      "   6.45307408e-307   1.69109959e-306   9.34608432e-307   1.11260551e-306\n",
      "   8.45599366e-307   1.33511969e-306   7.56602524e-307   1.69121367e-306\n",
      "   1.69119330e-306   1.69121367e-306   1.37962388e-306   1.11261570e-306\n",
      "   6.45284661e-307   1.78021527e-306   1.78019082e-306   4.45033446e-308\n",
      "   6.89812281e-307   1.78021527e-306   1.37961913e-306   9.34609790e-307\n",
      "   4.45033446e-308   1.69119873e-306   6.89806509e-307   1.78021527e-306\n",
      "   1.60220528e-306   6.67571389e-308   6.89796323e-307   1.86920872e-306\n",
      "   1.39075817e-308   8.34442166e-308   1.11261570e-306   9.34609790e-307\n",
      "   1.24606309e-306   1.78018811e-306   7.78825082e-308   1.33511969e-306\n",
      "   1.69119330e-306   1.69109959e-306   1.29062093e-306   1.78018811e-306\n",
      "   6.95384812e-308   1.60220529e-306   6.67571389e-308   6.89796323e-307\n",
      "   1.86920872e-306   6.23034601e-307   7.56546841e-307   1.60219035e-306\n",
      "   1.33511969e-306   1.86921415e-306   1.06811422e-306   8.45549797e-307\n",
      "   4.45057637e-308   1.37962456e-306   1.86921279e-306   7.56546842e-307\n",
      "   1.11261434e-306   4.45061456e-308   1.37961641e-306   7.56531903e-307\n",
      "   2.49212618e-306   4.45062305e-308   1.78021527e-306   1.51318739e-306\n",
      "   1.24606309e-306   1.60219306e-306   1.78020033e-306   1.37962320e-306\n",
      "   4.45067397e-308   1.20160711e-306   1.02360867e-306   2.00262080e-307\n",
      "   4.45047875e-308   1.37961302e-306   1.11261434e-306   4.45064003e-308\n",
      "   1.37961302e-306   4.45061456e-308   1.06810268e-306   4.45067397e-308\n",
      "   7.56592338e-307   7.56602523e-307   9.34601642e-307   2.63130943e-312]\n",
      "Wall time: 3h 11min 45s\n"
     ]
    }
   ],
   "source": [
    "%%time\n",
    "\n",
    "# for loop set array of certain size e.g. 624 and put into set_train definition\n",
    "# after score is calculated need to put into array to store all values\n",
    "train_size = np.array([625, 703, 750, 937]) # for loop in for loop. loop with a bunch of different training sizes\n",
    "iteration_number = 1\n",
    "MSE_values = np.empty(train_size.size * iteration_number)\n",
    "for j in range(train_size.size):\n",
    "    for i in range(iteration_number):\n",
    "        indices = np.arange(lat_points.size)\n",
    "        set_train = np.random.choice(indices, size=train_size[j])\n",
    "        lat_train = lat_points[set_train]\n",
    "        lon_train = lon_points[set_train]\n",
    "        seis_train = seismic_points[set_train]\n",
    "        train_points = [lat_train, lon_train, seis_train]\n",
    "        lat_test = np.delete(lat_points, set_train)\n",
    "        lon_test = np.delete(lon_points, set_train)\n",
    "        seismic_test = np.delete(seismic_points, set_train)\n",
    "        results['scores_refdens'] = score_all(results['models_refdens'], train_points, \n",
    "                                              points=True, njobs=ncpu).reshape(cv_shape)\n",
    "        best = np.nanargmin(results['scores_refdens'])\n",
    "        results['solution'] = solutions[best]\n",
    "            # Find the index in reference_levels and densities corresponding to best\n",
    "        MSE_values[i+j] = score_seismic_constraints(results['solution'].estimate_, lat_test, lon_test, seismic_test)\n",
    "print(MSE_values)\n",
    "# after done put this code into south american moho"
   ]
  },
  {
   "cell_type": "code",
   "execution_count": 62,
   "metadata": {},
   "outputs": [],
   "source": [
    "MSE_values_train625 = MSE_values[0:iteration_number]\n",
    "MSE_values_train703 = MSE_values[iteration_number:2*iteration_number]\n",
    "MSE_values_train750 = MSE_values[2*iteration_number:3*iteration_number]\n",
    "MSE_values_full = MSE_values[3*iteration_number:len(MSE_values)]"
   ]
  },
  {
   "cell_type": "code",
   "execution_count": 63,
   "metadata": {},
   "outputs": [
    {
     "name": "stdout",
     "output_type": "stream",
     "text": [
      "[  5.54725440e+006   5.74010939e+006   6.06289969e+006   5.35795355e+006\n",
      "   4.91196533e+006   5.74882999e+006   4.97912519e+006   5.30629663e+006\n",
      "   5.31134642e+006   6.34284049e+006   5.44733074e+006   5.12991815e+006\n",
      "   5.08267634e+006   5.83532655e+006   5.18420297e+006   5.90944551e+006\n",
      "   4.95712869e+006   5.60881871e+006   5.11878364e+006   4.99036347e+006\n",
      "   4.63285678e+006   5.83948221e+006   5.36520740e+006   4.73377905e+006\n",
      "   5.74665295e+006   5.38897955e+006   5.79711959e+006   5.61576536e+006\n",
      "   5.85907343e+006   5.93885658e+006   4.65935527e+006   4.66526444e+006\n",
      "   6.06603844e+006   5.00756386e+006   5.98367974e+006   4.99761662e+006\n",
      "   6.02319859e+006   5.98033078e+006   5.49456475e+006   5.95731892e+006\n",
      "   5.61526162e+006   5.27772379e+006   6.21964529e+006   5.63938807e+006\n",
      "   5.37532017e+006   5.90361743e+006   6.30559171e+006   4.46198357e+006\n",
      "   5.58578849e+006   5.99669124e+006   5.60138157e+006   5.90591816e+006\n",
      "   5.76110965e+006   5.43557470e+006   5.11152479e+006   5.89901925e+006\n",
      "   4.81669046e+006   5.69321820e+006   5.29593524e+006   5.26087561e+006\n",
      "   4.85227191e+006   5.14917830e+006   5.41480724e+006   5.89760712e+006\n",
      "   5.36582263e+006   5.62024493e+006   4.32844683e+006   4.97604797e+006\n",
      "   5.53600065e+006   5.61407196e+006   4.95567811e+006   5.25997831e+006\n",
      "   5.48050145e+006   4.28002706e+006   5.62918837e+006   5.47318070e+006\n",
      "   5.32886162e+006   5.43858545e+006   4.91856645e+006   5.11914531e+006\n",
      "   5.55418410e+006   5.43130310e+006   5.43564072e+006   5.50504358e+006\n",
      "   5.52689338e+006   5.80929815e+006   6.30844331e+006   6.32489669e+006\n",
      "   4.62540813e+006   5.98978709e+006   5.63179659e+006   4.61020789e+006\n",
      "   5.25356760e+006   5.23902668e+006   5.79433304e+006   5.63797101e+006\n",
      "   5.26022924e+006   5.45612230e+006   4.92362374e+006   6.07522335e+006\n",
      "   5.54181122e+006   5.21337736e+006   5.57633056e+006   6.95383963e-308\n",
      "   4.45028353e-308   4.45028353e-308   1.33511561e-306   9.34598246e-307\n",
      "   4.45040660e-308   7.56556349e-307   1.02360867e-306   7.56598448e-307\n",
      "   1.37962185e-306   1.69121367e-306   2.31421941e-306   4.45019016e-308\n",
      "   4.45028353e-308   1.69109959e-306   1.78018811e-306   1.33511562e-306\n",
      "   1.33506604e-306   7.56602523e-307   1.29061821e-306   1.37961641e-306\n",
      "   6.67565023e-308   1.11260483e-306   7.78824657e-308   2.31421941e-306\n",
      "   1.60221072e-306   6.89810244e-307   9.34613864e-307   6.95375051e-308\n",
      "   4.45028353e-308   4.45028353e-308   1.78019082e-306   7.56602524e-307\n",
      "   1.61320571e-307   1.78019082e-306   1.11261230e-306   6.00808987e-307\n",
      "   6.89812281e-307   1.11260280e-306   4.45019016e-308   4.45028353e-308\n",
      "   1.24606309e-306   1.78018811e-306   1.33511562e-306   1.24606309e-306\n",
      "   1.42417629e-306   1.78020848e-306   9.34609111e-307   1.60221072e-306\n",
      "   6.45308767e-307   4.45028353e-308   4.45028353e-308   1.11260551e-306\n",
      "   1.60221072e-306   4.45061456e-308   9.34609110e-307   1.11261095e-306\n",
      "   1.37962185e-306   1.69121367e-306   1.78019625e-306   7.56602524e-307\n",
      "   1.39086851e-308   4.45028353e-308   4.45028353e-308   1.11260280e-306\n",
      "   1.37962185e-306   1.69121367e-306   6.00780807e-307   6.89812281e-307\n",
      "   1.11260280e-306   1.24606309e-306   1.78018811e-306   1.33511562e-306\n",
      "   9.34609110e-307   1.78018811e-306   1.33511562e-306   4.45028353e-308\n",
      "   4.45028353e-308   7.56598448e-307   9.34609790e-307   1.61320571e-307\n",
      "   8.34450230e-308   9.34604358e-307   1.24606852e-306   1.42417629e-306\n",
      "   1.78020848e-306   1.69109959e-306   1.78018811e-306   1.33511562e-306\n",
      "   4.45028353e-308   4.45028353e-308   1.37961913e-306   9.34609790e-307\n",
      "   1.61320571e-307   8.34450230e-308   9.34604358e-307   1.24606852e-306\n",
      "   1.42417629e-306   1.78020848e-306   1.69109959e-306   1.78018811e-306\n",
      "   1.33511562e-306   4.45028353e-308   4.45028353e-308   9.34609110e-307\n",
      "   1.11261095e-306   9.34609790e-307   1.61320571e-307   8.34450230e-308\n",
      "   9.34604358e-307   1.69111046e-306   1.29062093e-306   1.42417629e-306\n",
      "   1.78020848e-306   1.69109959e-306   1.78018811e-306   1.33511562e-306\n",
      "   4.45028353e-308   4.45028353e-308   9.34608431e-307   1.78020576e-306\n",
      "   1.69110910e-306   9.34608432e-307   9.34608432e-307   1.33511290e-306\n",
      "   4.45054241e-308   8.45606156e-307   6.89807188e-307   6.67567993e-308\n",
      "   1.86921822e-306   6.00808987e-307   8.90104918e-307   6.89811941e-307\n",
      "   8.90098806e-307   6.39757541e-308   1.78010255e-306   1.33511562e-306\n",
      "   1.11261230e-306   7.78824657e-308   4.45028353e-308   4.45028353e-308\n",
      "   4.45028353e-308   4.45028353e-308   4.45028353e-308   4.45028353e-308\n",
      "   4.45028353e-308   4.45028353e-308   4.45028353e-308   4.45028353e-308\n",
      "   4.45028353e-308   4.45028353e-308   1.33511562e-306   4.45035483e-307\n",
      "   7.78818716e-308   1.37961777e-306   1.33508574e-306   6.95385236e-308\n",
      "   1.69119330e-306   9.34607074e-307   6.89812960e-307   1.42417901e-306\n",
      "   4.45019016e-308   4.45028353e-308   8.01048319e-307   4.45064003e-308\n",
      "   1.42419666e-306   1.33511018e-306   1.29061278e-306   1.60210750e-306\n",
      "   1.24612081e-306   6.39747355e-308   1.60220393e-306   1.60218220e-306\n",
      "   9.34598925e-307   6.45284661e-307   4.45028353e-308   4.45028353e-308\n",
      "   9.34608431e-307   1.78020576e-306   1.69110910e-306   1.78021798e-306\n",
      "   6.39755419e-308   4.45040660e-308   1.86920872e-306   1.33511969e-306\n",
      "   9.34597567e-307   1.39086851e-308   4.45028353e-308   4.45028353e-308\n",
      "   4.45028353e-308   1.11258446e-306   1.78010255e-306   1.11255866e-306\n",
      "   2.13620807e-306   4.45061456e-308   9.34600284e-307   8.45602762e-307\n",
      "   9.34604358e-307   1.69120281e-306   8.90104239e-307   1.33511290e-306\n",
      "   1.11261570e-306   8.45549797e-307   9.34608432e-307   1.33511969e-306\n",
      "   1.02360867e-306   4.45061881e-308   1.78021527e-306   4.45028353e-308\n",
      "   4.45028353e-308   2.33646845e-307   1.24610723e-306   6.00808987e-307\n",
      "   6.45307408e-307   1.69109959e-306   9.34608432e-307   1.11260551e-306\n",
      "   8.45599366e-307   1.33511969e-306   7.56602524e-307   1.69121367e-306\n",
      "   1.69119330e-306   1.69121367e-306   1.37962388e-306   1.11261570e-306\n",
      "   6.45284661e-307   1.78021527e-306   1.78019082e-306   4.45033446e-308\n",
      "   6.89812281e-307   1.78021527e-306   1.37961913e-306   9.34609790e-307\n",
      "   4.45033446e-308   1.69119873e-306   6.89806509e-307   1.78021527e-306\n",
      "   1.60220528e-306   6.67571389e-308   6.89796323e-307   1.86920872e-306\n",
      "   1.39075817e-308   8.34442166e-308   1.11261570e-306   9.34609790e-307\n",
      "   1.24606309e-306   1.78018811e-306   7.78825082e-308   1.33511969e-306\n",
      "   1.69119330e-306   1.69109959e-306   1.29062093e-306   1.78018811e-306\n",
      "   6.95384812e-308   1.60220529e-306   6.67571389e-308   6.89796323e-307\n",
      "   1.86920872e-306   6.23034601e-307   7.56546841e-307   1.60219035e-306\n",
      "   1.33511969e-306   1.86921415e-306   1.06811422e-306   8.45549797e-307\n",
      "   4.45057637e-308   1.37962456e-306   1.86921279e-306   7.56546842e-307\n",
      "   1.11261434e-306   4.45061456e-308   1.37961641e-306   7.56531903e-307\n",
      "   2.49212618e-306   4.45062305e-308   1.78021527e-306   1.51318739e-306\n",
      "   1.24606309e-306   1.60219306e-306   1.78020033e-306   1.37962320e-306\n",
      "   4.45067397e-308   1.20160711e-306   1.02360867e-306   2.00262080e-307\n",
      "   4.45047875e-308   1.37961302e-306   1.11261434e-306   4.45064003e-308\n",
      "   1.37961302e-306   4.45061456e-308   1.06810268e-306   4.45067397e-308\n",
      "   7.56592338e-307   7.56602523e-307   9.34601642e-307   2.63130943e-312]\n",
      "[ 5547254.40189952  5740109.39384423  6062899.68574978  5357953.5517051\n",
      "  4911965.33137615  5748829.9852435   4979125.1916982   5306296.63194146\n",
      "  5311346.42220236  6342840.49184862  5447330.73781496  5129918.15046791\n",
      "  5082676.33517482  5835326.55468231  5184202.97375427  5909445.51290779\n",
      "  4957128.69354659  5608818.71119475  5118783.64374896  4990363.46910415\n",
      "  4632856.78258227  5839482.20750006  5365207.39703568  4733779.05378647\n",
      "  5746652.95250241  5388979.54606846  5797119.58655834  5615765.36326577\n",
      "  5859073.42728572  5938856.58326048  4659355.26535783  4665264.43807642\n",
      "  6066038.4384067   5007563.86117624  5983679.73970906  4997616.62339414\n",
      "  6023198.59110343  5980330.77901476  5494564.74765462  5957318.92253156\n",
      "  5615261.61833578  5277723.78651968  6219645.29464157  5639388.07187734\n",
      "  5375320.17052802  5903617.42637844  6305591.71424168  4461983.56916278\n",
      "  5585788.49381386  5996691.24044994  5601381.56543413  5905918.15906854\n",
      "  5761109.6468959   5435574.69860708  5111524.79154536  5899019.25215481\n",
      "  4816690.46428563  5693218.20445097  5295935.23591223  5260875.61060841\n",
      "  4852271.90519754  5149178.29738797  5414807.23530374  5897607.11906671\n",
      "  5365822.63290873  5620244.92840337  4328446.83306099  4976047.96961127\n",
      "  5536000.65198738  5614071.9624465   4955678.10795971  5259978.30539925\n",
      "  5480501.44634025  4280027.05733171  5629188.37342861  5473180.70373696\n",
      "  5328861.61898981  5438585.4534084   4918566.45392266  5119145.31354313\n",
      "  5554184.09503309  5431303.0965895   5435640.71501374  5505043.5753725\n",
      "  5526893.38389273  5809298.14528526  6308443.31159756  6324896.69146502\n",
      "  4625408.12822022  5989787.08914791  5631796.59129713  4610207.88791267\n",
      "  5253567.59919504  5239026.67818507  5794333.04451753  5637971.01330752\n",
      "  5260229.2373412   5456122.29811338  4923623.74041566  6075223.34710715]\n",
      "[  5.54181122e+006   5.21337736e+006   5.57633056e+006   6.95383963e-308\n",
      "   4.45028353e-308   4.45028353e-308   1.33511561e-306   9.34598246e-307\n",
      "   4.45040660e-308   7.56556349e-307   1.02360867e-306   7.56598448e-307\n",
      "   1.37962185e-306   1.69121367e-306   2.31421941e-306   4.45019016e-308\n",
      "   4.45028353e-308   1.69109959e-306   1.78018811e-306   1.33511562e-306\n",
      "   1.33506604e-306   7.56602523e-307   1.29061821e-306   1.37961641e-306\n",
      "   6.67565023e-308   1.11260483e-306   7.78824657e-308   2.31421941e-306\n",
      "   1.60221072e-306   6.89810244e-307   9.34613864e-307   6.95375051e-308\n",
      "   4.45028353e-308   4.45028353e-308   1.78019082e-306   7.56602524e-307\n",
      "   1.61320571e-307   1.78019082e-306   1.11261230e-306   6.00808987e-307\n",
      "   6.89812281e-307   1.11260280e-306   4.45019016e-308   4.45028353e-308\n",
      "   1.24606309e-306   1.78018811e-306   1.33511562e-306   1.24606309e-306\n",
      "   1.42417629e-306   1.78020848e-306   9.34609111e-307   1.60221072e-306\n",
      "   6.45308767e-307   4.45028353e-308   4.45028353e-308   1.11260551e-306\n",
      "   1.60221072e-306   4.45061456e-308   9.34609110e-307   1.11261095e-306\n",
      "   1.37962185e-306   1.69121367e-306   1.78019625e-306   7.56602524e-307\n",
      "   1.39086851e-308   4.45028353e-308   4.45028353e-308   1.11260280e-306\n",
      "   1.37962185e-306   1.69121367e-306   6.00780807e-307   6.89812281e-307\n",
      "   1.11260280e-306   1.24606309e-306   1.78018811e-306   1.33511562e-306\n",
      "   9.34609110e-307   1.78018811e-306   1.33511562e-306   4.45028353e-308\n",
      "   4.45028353e-308   7.56598448e-307   9.34609790e-307   1.61320571e-307\n",
      "   8.34450230e-308   9.34604358e-307   1.24606852e-306   1.42417629e-306\n",
      "   1.78020848e-306   1.69109959e-306   1.78018811e-306   1.33511562e-306\n",
      "   4.45028353e-308   4.45028353e-308   1.37961913e-306   9.34609790e-307\n",
      "   1.61320571e-307   8.34450230e-308   9.34604358e-307   1.24606852e-306]\n",
      "[  1.42417629e-306   1.78020848e-306   1.69109959e-306   1.78018811e-306\n",
      "   1.33511562e-306   4.45028353e-308   4.45028353e-308   9.34609110e-307\n",
      "   1.11261095e-306   9.34609790e-307   1.61320571e-307   8.34450230e-308\n",
      "   9.34604358e-307   1.69111046e-306   1.29062093e-306   1.42417629e-306\n",
      "   1.78020848e-306   1.69109959e-306   1.78018811e-306   1.33511562e-306\n",
      "   4.45028353e-308   4.45028353e-308   9.34608431e-307   1.78020576e-306\n",
      "   1.69110910e-306   9.34608432e-307   9.34608432e-307   1.33511290e-306\n",
      "   4.45054241e-308   8.45606156e-307   6.89807188e-307   6.67567993e-308\n",
      "   1.86921822e-306   6.00808987e-307   8.90104918e-307   6.89811941e-307\n",
      "   8.90098806e-307   6.39757541e-308   1.78010255e-306   1.33511562e-306\n",
      "   1.11261230e-306   7.78824657e-308   4.45028353e-308   4.45028353e-308\n",
      "   4.45028353e-308   4.45028353e-308   4.45028353e-308   4.45028353e-308\n",
      "   4.45028353e-308   4.45028353e-308   4.45028353e-308   4.45028353e-308\n",
      "   4.45028353e-308   4.45028353e-308   1.33511562e-306   4.45035483e-307\n",
      "   7.78818716e-308   1.37961777e-306   1.33508574e-306   6.95385236e-308\n",
      "   1.69119330e-306   9.34607074e-307   6.89812960e-307   1.42417901e-306\n",
      "   4.45019016e-308   4.45028353e-308   8.01048319e-307   4.45064003e-308\n",
      "   1.42419666e-306   1.33511018e-306   1.29061278e-306   1.60210750e-306\n",
      "   1.24612081e-306   6.39747355e-308   1.60220393e-306   1.60218220e-306\n",
      "   9.34598925e-307   6.45284661e-307   4.45028353e-308   4.45028353e-308\n",
      "   9.34608431e-307   1.78020576e-306   1.69110910e-306   1.78021798e-306\n",
      "   6.39755419e-308   4.45040660e-308   1.86920872e-306   1.33511969e-306\n",
      "   9.34597567e-307   1.39086851e-308   4.45028353e-308   4.45028353e-308\n",
      "   4.45028353e-308   1.11258446e-306   1.78010255e-306   1.11255866e-306\n",
      "   2.13620807e-306   4.45061456e-308   9.34600284e-307   8.45602762e-307]\n",
      "[  9.34604358e-307   1.69120281e-306   8.90104239e-307   1.33511290e-306\n",
      "   1.11261570e-306   8.45549797e-307   9.34608432e-307   1.33511969e-306\n",
      "   1.02360867e-306   4.45061881e-308   1.78021527e-306   4.45028353e-308\n",
      "   4.45028353e-308   2.33646845e-307   1.24610723e-306   6.00808987e-307\n",
      "   6.45307408e-307   1.69109959e-306   9.34608432e-307   1.11260551e-306\n",
      "   8.45599366e-307   1.33511969e-306   7.56602524e-307   1.69121367e-306\n",
      "   1.69119330e-306   1.69121367e-306   1.37962388e-306   1.11261570e-306\n",
      "   6.45284661e-307   1.78021527e-306   1.78019082e-306   4.45033446e-308\n",
      "   6.89812281e-307   1.78021527e-306   1.37961913e-306   9.34609790e-307\n",
      "   4.45033446e-308   1.69119873e-306   6.89806509e-307   1.78021527e-306\n",
      "   1.60220528e-306   6.67571389e-308   6.89796323e-307   1.86920872e-306\n",
      "   1.39075817e-308   8.34442166e-308   1.11261570e-306   9.34609790e-307\n",
      "   1.24606309e-306   1.78018811e-306   7.78825082e-308   1.33511969e-306\n",
      "   1.69119330e-306   1.69109959e-306   1.29062093e-306   1.78018811e-306\n",
      "   6.95384812e-308   1.60220529e-306   6.67571389e-308   6.89796323e-307\n",
      "   1.86920872e-306   6.23034601e-307   7.56546841e-307   1.60219035e-306\n",
      "   1.33511969e-306   1.86921415e-306   1.06811422e-306   8.45549797e-307\n",
      "   4.45057637e-308   1.37962456e-306   1.86921279e-306   7.56546842e-307\n",
      "   1.11261434e-306   4.45061456e-308   1.37961641e-306   7.56531903e-307\n",
      "   2.49212618e-306   4.45062305e-308   1.78021527e-306   1.51318739e-306\n",
      "   1.24606309e-306   1.60219306e-306   1.78020033e-306   1.37962320e-306\n",
      "   4.45067397e-308   1.20160711e-306   1.02360867e-306   2.00262080e-307\n",
      "   4.45047875e-308   1.37961302e-306   1.11261434e-306   4.45064003e-308\n",
      "   1.37961302e-306   4.45061456e-308   1.06810268e-306   4.45067397e-308\n",
      "   7.56592338e-307   7.56602523e-307   9.34601642e-307   2.63130943e-312]\n"
     ]
    }
   ],
   "source": [
    "print(MSE_values)\n",
    "print(MSE_values_train625)\n",
    "print(MSE_values_train703)\n",
    "print(MSE_values_train750)\n",
    "print(MSE_values_full)"
   ]
  },
  {
   "cell_type": "code",
   "execution_count": 71,
   "metadata": {},
   "outputs": [
    {
     "data": {
      "image/png": "[encoded data removed]",
      "text/plain": [
       "<Figure size 432x288 with 1 Axes>"
      ]
     },
     "metadata": {
      "needs_background": "light"
     },
     "output_type": "display_data"
    },
    {
     "data": {
      "image/png": "[encoded data removed]",
      "text/plain": [
       "<Figure size 432x288 with 1 Axes>"
      ]
     },
     "metadata": {
      "needs_background": "light"
     },
     "output_type": "display_data"
    },
    {
     "data": {
      "image/png": "[encoded data removed]",
      "text/plain": [
       "<Figure size 432x288 with 1 Axes>"
      ]
     },
     "metadata": {
      "needs_background": "light"
     },
     "output_type": "display_data"
    },
    {
     "data": {
      "image/png": "[encoded data removed]",
      "text/plain": [
       "<Figure size 432x288 with 1 Axes>"
      ]
     },
     "metadata": {
      "needs_background": "light"
     },
     "output_type": "display_data"
    }
   ],
   "source": [
    "#plotting MSE for training size 625 or about 2/3 of data\n",
    "plt.figure()\n",
    "plt.title(\"A histogram of Mean Square Errors from cross validation, training size = 625\")\n",
    "plt.hist(np.sqrt(MSE_values_train625))\n",
    "plt.xlabel(\"MSE in meters\")\n",
    "plt.ylabel(\"Frequency\")\n",
    "#plt.savefig(\"MSE_training_size_625.jpg\", dpi=100, bbox_inches=\"tight\")\n",
    "\n",
    "#plotting MSE for training size 702 or about 3/4 of data\n",
    "plt.figure()\n",
    "plt.title(\"A histogram of Mean Square Errors from cross validation, training size = 703\")\n",
    "plt.hist(np.sqrt(MSE_values_train703))\n",
    "plt.xlabel(\"MSE in meters\")\n",
    "plt.ylabel(\"Frequency\")\n",
    "#plt.savefig(\"MSE_training_size_702.jpg\", dpi=100, bbox_inches=\"tight\")\n",
    "\n",
    "#plotting MSE for training size 750 or 4/5 of data\n",
    "plt.figure()\n",
    "plt.title(\"A histogram of Mean Square Errors from cross validation, training size = 750\")\n",
    "plt.hist(np.sqrt(MSE_values_train750))\n",
    "plt.xlabel(\"MSE in meters\")\n",
    "plt.ylabel(\"Frequency\")\n",
    "#plt.savefig(\"MSE_training_size_750.jpg\", dpi=100, bbox_inches=\"tight\")\n",
    "\n",
    "#plotting MSE for training size full\n",
    "plt.figure()\n",
    "plt.title(\"A histogram of Mean Square Errors from cross validation, training size = full data set\")\n",
    "plt.hist(np.sqrt(MSE_values_full))\n",
    "plt.xlabel(\"MSE in meters\")\n",
    "plt.ylabel(\"Frequency\")\n",
    "#plt.savefig(\"MSE_training_size_full.jpg\", dpi=100, bbox_inches=\"tight\")"
   ]
  },
  {
   "cell_type": "markdown",
   "metadata": {},
   "source": [
    "Print the estimated parameters:"
   ]
  },
  {
   "cell_type": "code",
   "execution_count": 65,
   "metadata": {
    "jupyter": {
     "outputs_hidden": false
    }
   },
   "outputs": [
    {
     "ename": "KeyError",
     "evalue": "'best_ref'",
     "output_type": "error",
     "traceback": [
      "\u001b[1;31m\u001b[0m",
      "\u001b[1;31mKeyError\u001b[0mTraceback (most recent call last)",
      "\u001b[1;32m<ipython-input-65-13d1829bb958>\u001b[0m in \u001b[0;36m<module>\u001b[1;34m()\u001b[0m\n\u001b[1;32m----> 1\u001b[1;33m \u001b[0mestimated_ref\u001b[0m \u001b[1;33m=\u001b[0m \u001b[0mresults\u001b[0m\u001b[1;33m[\u001b[0m\u001b[1;34m'reference_levels'\u001b[0m\u001b[1;33m]\u001b[0m\u001b[1;33m[\u001b[0m\u001b[0mresults\u001b[0m\u001b[1;33m[\u001b[0m\u001b[1;34m'best_ref'\u001b[0m\u001b[1;33m]\u001b[0m\u001b[1;33m]\u001b[0m\u001b[1;33m\u001b[0m\u001b[0m\n\u001b[0m\u001b[0;32m      2\u001b[0m \u001b[0mestimated_dens\u001b[0m \u001b[1;33m=\u001b[0m \u001b[0mresults\u001b[0m\u001b[1;33m[\u001b[0m\u001b[1;34m'densities'\u001b[0m\u001b[1;33m]\u001b[0m\u001b[1;33m[\u001b[0m\u001b[0mresults\u001b[0m\u001b[1;33m[\u001b[0m\u001b[1;34m'best_dens'\u001b[0m\u001b[1;33m]\u001b[0m\u001b[1;33m]\u001b[0m\u001b[1;33m\u001b[0m\u001b[0m\n\u001b[0;32m      3\u001b[0m \u001b[0mestimated_regul\u001b[0m \u001b[1;33m=\u001b[0m \u001b[0mresults\u001b[0m\u001b[1;33m[\u001b[0m\u001b[1;34m'regul_params'\u001b[0m\u001b[1;33m]\u001b[0m\u001b[1;33m[\u001b[0m\u001b[0mresults\u001b[0m\u001b[1;33m[\u001b[0m\u001b[1;34m'best_regul'\u001b[0m\u001b[1;33m]\u001b[0m\u001b[1;33m]\u001b[0m\u001b[1;33m\u001b[0m\u001b[0m\n\u001b[0;32m      4\u001b[0m \u001b[1;32mprint\u001b[0m\u001b[1;33m(\u001b[0m\u001b[1;34m'Cross-validation results:'\u001b[0m\u001b[1;33m)\u001b[0m\u001b[1;33m\u001b[0m\u001b[0m\n\u001b[0;32m      5\u001b[0m print(u'  reference level: {} km (true = {})'.format(\n",
      "\u001b[1;31mKeyError\u001b[0m: 'best_ref'"
     ]
    }
   ],
   "source": [
    "estimated_ref = results['reference_levels'][results['best_ref']]\n",
    "estimated_dens = results['densities'][results['best_dens']]\n",
    "estimated_regul = results['regul_params'][results['best_regul']]\n",
    "print('Cross-validation results:')\n",
    "print(u'  reference level: {} km (true = {})'.format(\n",
    "    -0.001*estimated_ref, -0.001*reference))\n",
    "print(u'  density contrast: {} kg/m³ (true = {})'.format(\n",
    "    estimated_dens, moho_density_contrast))\n",
    "print(u'  regularization parameter: {}'.format(estimated_regul))"
   ]
  },
  {
   "cell_type": "markdown",
   "metadata": {},
   "source": [
    "Plot the cross-validation score for the reference level and density-contrast on map."
   ]
  },
  {
   "cell_type": "code",
   "execution_count": null,
   "metadata": {
    "jupyter": {
     "outputs_hidden": false
    }
   },
   "outputs": [],
   "source": [
    "plot_cv_ref_dens(results['densities'], results['reference_levels'], \n",
    "                 results['scores_refdens'], results['best_dens'], results['best_ref'])"
   ]
  },
  {
   "cell_type": "markdown",
   "metadata": {},
   "source": [
    "### Save the results to a pickle file"
   ]
  },
  {
   "cell_type": "markdown",
   "metadata": {},
   "source": [
    "All of the above takes some time to run. We can now save the `results` dictionary to a pickle file and load it later to make plots of the results without re-calculating. Since the resulting pickle file will be large, we'll store it in a `zip` archive."
   ]
  },
  {
   "cell_type": "code",
   "execution_count": null,
   "metadata": {
    "jupyter": {
     "outputs_hidden": false
    }
   },
   "outputs": [],
   "source": [
    "# Dump the results dict to a pickle file\n",
    "now = datetime.datetime.utcnow().strftime('%d %B %Y %H:%M:%S UTC')\n",
    "results['metadata'] = \"Generated by sinthetic-crust1.ipynb on {date}\".format(date=now)\n",
    "fname = 'synthetic-crust1'\n",
    "pickle_file = '{}.pickle'.format(fname)\n",
    "with open('results/{}'.format(pickle_file), 'w') as f:\n",
    "    pickle.dump(results, f)   \n",
    "# Zip the pickle file\n",
    "zipargs = dict(mode='w', compression=zipfile.ZIP_DEFLATED)\n",
    "with zipfile.ZipFile('results/{}.zip'.format(fname), **zipargs) as f:\n",
    "    f.write('results/{}'.format(pickle_file), arcname=pickle_file)"
   ]
  },
  {
   "cell_type": "markdown",
   "metadata": {},
   "source": [
    "### Plot the final solution"
   ]
  },
  {
   "cell_type": "code",
   "execution_count": null,
   "metadata": {
    "jupyter": {
     "outputs_hidden": false
    }
   },
   "outputs": [],
   "source": [
    "plot_fit(lat, lon, data, results['solution'], bm)"
   ]
  },
  {
   "cell_type": "code",
   "execution_count": null,
   "metadata": {
    "jupyter": {
     "outputs_hidden": false
    }
   },
   "outputs": [],
   "source": [
    "plot_residuals(results['solution'])"
   ]
  },
  {
   "cell_type": "code",
   "execution_count": null,
   "metadata": {
    "jupyter": {
     "outputs_hidden": false
    }
   },
   "outputs": [],
   "source": [
    "plot_estimate(results['solution'], bm)"
   ]
  },
  {
   "cell_type": "markdown",
   "metadata": {},
   "source": [
    "Finding the difference in Estimated Moho depth with training data and full data set"
   ]
  },
  {
   "cell_type": "code",
   "execution_count": null,
   "metadata": {},
   "outputs": [],
   "source": [
    "#results['scores_refdens'] = score_all(results['models_refdens'], test_points, \n",
    "                                      #points=True).reshape(cv_shape)"
   ]
  },
  {
   "cell_type": "code",
   "execution_count": null,
   "metadata": {},
   "outputs": [],
   "source": [
    "#best = np.nanargmin(results['scores_refdens'])\n",
    "#results['solution'] = solutions[best]\n",
    "#results_full = results['solution']\n",
    "# Find the index in reference_levels and densities corresponding to best\n",
    "#results['best_dens'], results['best_ref'] = np.unravel_index(best, cv_shape)"
   ]
  },
  {
   "cell_type": "code",
   "execution_count": null,
   "metadata": {},
   "outputs": [],
   "source": [
    "#estimated_ref = results['reference_levels'][results['best_ref']]\n",
    "#estimated_dens = results['densities'][results['best_dens']]\n",
    "#estimated_regul = results['regul_params'][results['best_regul']]\n",
    "#print('Cross-validation results:')\n",
    "#print(u'  reference level: {} km (true = {})'.format(\n",
    "#    -0.001*estimated_ref, -0.001*reference))\n",
    "#print(u'  density contrast: {} kg/m³ (true = {})'.format(\n",
    "#    estimated_dens, moho_density_contrast))\n",
    "#print(u'  regularization parameter: {}'.format(estimated_regul))\n"
   ]
  },
  {
   "cell_type": "code",
   "execution_count": null,
   "metadata": {},
   "outputs": [],
   "source": [
    "#train_full_diff = results_training - results_full"
   ]
  },
  {
   "cell_type": "code",
   "execution_count": null,
   "metadata": {},
   "outputs": [],
   "source": []
  },
  {
   "cell_type": "code",
   "execution_count": null,
   "metadata": {
    "jupyter": {
     "outputs_hidden": false
    }
   },
   "outputs": [],
   "source": [
    "plot_diff(results['solution'], model, bm)"
   ]
  },
  {
   "cell_type": "code",
   "execution_count": null,
   "metadata": {
    "jupyter": {
     "outputs_hidden": false
    }
   },
   "outputs": [],
   "source": [
    "plot_diff_hist(results['solution'], model)"
   ]
  },
  {
   "cell_type": "code",
   "execution_count": null,
   "metadata": {
    "jupyter": {
     "outputs_hidden": false
    }
   },
   "outputs": [],
   "source": [
    "plot_diff_seismic(results['solution'], test_points, bm)"
   ]
  },
  {
   "cell_type": "code",
   "execution_count": null,
   "metadata": {
    "jupyter": {
     "outputs_hidden": false
    }
   },
   "outputs": [],
   "source": [
    "plot_diff_seismic_hist(results['solution'], test_points)"
   ]
  },
  {
   "cell_type": "markdown",
   "metadata": {},
   "source": [
    "[]()"
   ]
  },
  {
   "cell_type": "code",
   "execution_count": null,
   "metadata": {},
   "outputs": [],
   "source": []
  }
 ],
 "metadata": {
  "kernelspec": {
   "display_name": "Python 2",
   "language": "python",
   "name": "python2"
  },
  "language_info": {
   "codemirror_mode": {
    "name": "ipython",
    "version": 2
   },
   "file_extension": ".py",
   "mimetype": "text/x-python",
   "name": "python",
   "nbconvert_exporter": "python",
   "pygments_lexer": "ipython2",
   "version": "2.7.15"
  }
 },
 "nbformat": 4,
 "nbformat_minor": 4
}
